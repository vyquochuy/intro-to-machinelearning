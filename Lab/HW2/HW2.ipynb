{
 "cells": [
  {
   "cell_type": "markdown",
   "id": "c82b9d2f-ef2c-4d83-b6d9-79cad715479b",
   "metadata": {},
   "source": [
    "# HW2: Softmax Regression\n",
    "\n",
    "(Cập nhật lần cuối: 24/02/2025)\n",
    "\n",
    "Họ tên: Vy Quốc Huy\n",
    "\n",
    "MSSV: 22120142"
   ]
  },
  {
   "cell_type": "markdown",
   "id": "9b031f42-d6e2-471f-82bb-7e5b84f95065",
   "metadata": {},
   "source": [
    "---"
   ]
  },
  {
   "cell_type": "markdown",
   "id": "d021293f-5ce3-41a7-a2ec-0fe3ffd4af0d",
   "metadata": {},
   "source": [
    "## Nắm cách làm bài và nộp bài"
   ]
  },
  {
   "cell_type": "markdown",
   "id": "1f089d0a-4111-4222-8762-d08d6096acf7",
   "metadata": {},
   "source": [
    "&#9889; Bạn lưu ý là mình sẽ dùng chương trình hỗ trợ chấm bài nên bạn cần phải tuân thủ chính xác qui định mà mình đặt ra, nếu không rõ thì hỏi, chứ không nên tự tiện làm theo ý của cá nhân.\n",
    "\n",
    "**Cách làm bài**\n",
    "\n",
    "Bạn sẽ làm trực tiếp trên file notebook này. Đầu tiên, bạn điền họ tên và MSSV vào phần đầu file ở bên trên. Trong file, bạn làm bài ở những chỗ có ghi là:\n",
    "```python\n",
    "# YOUR CODE HERE\n",
    "raise NotImplementedError()\n",
    "```\n",
    "hoặc đối với những phần code không bắt buộc thì là:\n",
    "```python\n",
    "# YOUR CODE HERE (OPTION)\n",
    "```\n",
    "hoặc đối với markdown cell thì là:\n",
    "```markdown\n",
    "YOUR ANSWER HERE\n",
    "```\n",
    "Tất nhiên, khi làm thì bạn xóa dòng `raise NotImplementedError()` đi.\n",
    "Đối những phần yêu cầu code thì thường ở ngay phía dưới sẽ có một (hoặc một số) cell chứa các bộ test để phần nào giúp bạn biết đã code đúng hay chưa; nếu chạy cell này không có lỗi gì thì có nghĩa là qua được các bộ test. Trong một số trường hợp, các bộ test có thể sẽ không đầy đủ; nghĩa là, nếu không qua được test thì là code sai, nhưng nếu qua được test thì chưa chắc đã đúng hoàn toàn.\n",
    "\n",
    "Trong khi làm bài, bạn có thể cho in ra màn hình, tạo thêm các cell để test. Nhưng khi nộp bài thì bạn xóa các cell mà bạn tự tạo, xóa hoặc comment các câu lệnh in ra màn hình. Bạn lưu ý <font color=red>không được tự tiện xóa các cell hay sửa code của Thầy</font> (trừ những chỗ được phép sửa như đã nói ở trên).\n",
    "\n",
    "Trong khi làm bài, thường xuyên `Ctrl + S` để lưu lại bài làm của bạn, tránh mất mát thông tin.\n",
    "\n",
    "*Nên nhớ mục tiêu chính ở đây là <font color=green>học, học một cách chân thật</font>.  Bạn có thể thảo luận ý tưởng với bạn khác cũng như tham khảo các nguồn trên mạng, nhưng sau cùng <font color=green>code và bài làm phải là của bạn, dựa trên sự hiểu thật sự của bạn</font> (khi tham khảo các nguồn trên mạng thì bạn cần ghi rõ nguồn trong bài làm, và đương nhiên là bạn cũng không được phép đưa code và bài làm cho bạn khác xem). <font color=red>Nếu vi phạm những điều này thì có thể bạn sẽ bị 0 điểm cho toàn bộ môn học.</font>*\n",
    "\n",
    "**Cách nộp bài**\n",
    "\n",
    "Khi chấm bài, đầu tiên mình sẽ chọn `Kernel` - `Restart Kernel & Run All Cells` để restart và chạy tất cả các cell trong notebook của bạn; do đó, trước khi nộp bài, bạn nên chạy thử `Kernel` - `Restart Kernel & Run All Cells` để đảm bảo mọi chuyện diễn ra đúng như mong đợi.\n",
    "\n",
    "Sau đó, bạn tạo thư mục nộp bài theo cấu trúc sau:\n",
    "- Thư mục `MSSV` (ví dụ, nếu bạn có MSSV là 1234567 thì bạn đặt tên thư mục là `1234567`)\n",
    "    - File `HW2.ipynb` (không cần nộp các file khác)\n",
    "\n",
    "Cuối cùng, bạn nén thư mục `MSSV` này lại với định dạng nén là .zip (chứ không được là .rar hay các định dạng khác) và nộp ở link trên moodle. \\\n",
    "<font color=red>Bạn lưu ý tuân thủ chính xác qui định nộp bài này.</font>"
   ]
  },
  {
   "cell_type": "markdown",
   "id": "ec9ceffa-29ba-4bd8-92af-84f1973fdc78",
   "metadata": {},
   "source": [
    "## Kiểm tra môi trường code"
   ]
  },
  {
   "cell_type": "code",
   "execution_count": 1,
   "id": "77727362-3316-434f-a07f-c3421ee3efc3",
   "metadata": {
    "tags": []
   },
   "outputs": [
    {
     "data": {
      "text/plain": [
       "'/home/vyquochuy/miniconda3/envs/ml-env/bin/python'"
      ]
     },
     "execution_count": 1,
     "metadata": {},
     "output_type": "execute_result"
    }
   ],
   "source": [
    "import sys\n",
    "sys.executable"
   ]
  },
  {
   "cell_type": "markdown",
   "id": "98fbff69-dd69-4cb2-bdd3-6439cb51bfbe",
   "metadata": {},
   "source": [
    "Bạn nên thấy kết quả in ra là đường dẫn đến file chạy python của môi trường \"ml-env\" mà mình đã hướng dẫn bạn cài đặt ở HW0."
   ]
  },
  {
   "cell_type": "markdown",
   "id": "fed19c61-0536-421a-9539-ea5f41ae33da",
   "metadata": {},
   "source": [
    "## Nắm bài toán cần giải quyết của bài tập này\n",
    "\n",
    "Cho dữ liệu quan sát được (dữ liệu huấn luyện): \n",
    "$$\\{(\\textbf{x}^{(1)}, y^{(1)}), ..., (\\textbf{x}^{(N_{train})}, y^{(N_{train})})\\}$$\n",
    "\n",
    "Trong đó:\n",
    "\n",
    "- $\\textbf{x}^{(n)} \\in \\mathbb{R}^{784}$ là véc-tơ đầu vào chứa các giá trị pixel của một ảnh xám $28\\times28$, ảnh này là ảnh một chữ số viết tay nào đó (véc-tơ $784$ chiều được tạo từ ảnh xám $28\\times28$ bằng cách nối các dòng của ảnh xám lại với nhau)\n",
    "- $y^{(n)} \\in \\{0, 1, ..., 9\\}$ là đầu ra tương ứng, cho biết đây là chữ số nào\n",
    "\n",
    "Nhiệm vụ ở đây là tìm ra một (cách tiền xử lý và) mô hình (trong bài này: mô hình Softmax Regression) từ dữ liệu này sao cho (cách tiền xử lý và) mô hình này có thể nhận đầu vào là một ảnh-chữ-số-viết-tay *mới* (là một véc-tơ $\\in \\mathbb{R}^{784}$) và dự đoán đầu ra tương ứng (chữ số nào trong $\\{0, 1, 2, ..., 9\\}$) một cách *chính xác*."
   ]
  },
  {
   "cell_type": "markdown",
   "id": "fe3c1e8c-d9d8-48ad-9802-a8be7343d2fc",
   "metadata": {},
   "source": [
    "## Import các thư viện cần thiết"
   ]
  },
  {
   "cell_type": "code",
   "execution_count": 2,
   "id": "7073b4c1-98ae-4d25-865a-d9f5a60eefce",
   "metadata": {
    "tags": []
   },
   "outputs": [],
   "source": [
    "import numpy as np\n",
    "import os\n",
    "import pickle\n",
    "import gzip\n",
    "import matplotlib.pyplot as plt\n",
    "plt.style.use('ggplot') # Để hình vẽ đẹp hơn một xíu ..."
   ]
  },
  {
   "cell_type": "markdown",
   "id": "bbe8facb-b146-4460-803a-1eb7ff9ca969",
   "metadata": {},
   "source": [
    "Lưu ý: khi tính toán với mảng Numpy, bạn nên dùng các toán-tử/hàm/phương-thức mà Numpy đã cung cấp sẵn. Các toán-tử/hàm/phương-thức này làm trên nguyên mảng và ở bên dưới đã được tối ưu hóa; do đó, code sẽ ngắn gọn và chạy nhanh. Nếu bạn dùng vòng lặp và làm với từng phần tử của mảng Numpy thì code sẽ dài và chạy chậm $\\to$ bạn sẽ bị trừ điểm."
   ]
  },
  {
   "cell_type": "markdown",
   "id": "4d2758d1-ccb2-4939-ba5f-6dba5d19a863",
   "metadata": {},
   "source": [
    "## Đọc dữ liệu"
   ]
  },
  {
   "cell_type": "markdown",
   "id": "1b2d7d29-48d7-40fd-9a75-b29f8963b5a4",
   "metadata": {},
   "source": [
    "Bộ dữ liệu mà ta sẽ dùng trong bài này là MNIST - bộ dữ liệu chữ số viết tay \"nổi tiếng\" trong cộng đồng làm Machine Learning. [Bộ MNIST gốc](http://yann.lecun.com/exdb/mnist/) gồm có: dữ liệu huấn luyện (60000 ảnh) và dữ liệu kiểm tra (10000 ảnh). Bộ MNIST mà ta sẽ dùng trong bài này (file \"mnist.pkl.gz\") gồm có: dữ liệu huấn luyện (50000 ảnh), dữ liệu validation (10000 ảnh), và dữ liệu kiểm tra (10000 ảnh); dữ liệu huấn luyện và validation ở đây được tạo ra bằng cách tách ngẫu nhiên dữ luyện huấn luyện gốc ra thành 2 phần theo tỉ lệ 5:1. \n",
    "\n",
    "Về mặt ý nghĩa thì dữ liệu validation và dữ liệu kiểm tra đều là dữ liệu mới ngoài dữ liệu huấn luyện. Dữ liệu validation giống như đề thi thử, có thể được thi một vài lần; còn dữ liệu kiểm tra giống như đề thi thật, để đảm bảo kết quả được khách quan thì chỉ được thi một lần duy nhất! Khi làm Machine Learning, ta thường muốn thử một số cách tiền xử lý + mô hình để chọn ra cách tiền xử lý + mô hình tốt nhất. Với mỗi cách tiền xử lý + mô hình, ta sẽ huấn luyện trên dữ liệu huấn luyện và đo độ lỗi dự đoán trên dữ liệu validation; cuối cùng ta sẽ chọn cách tiền xử lý + mô hình mà có độ lỗi dự đoán thấp nhất trên dữ liệu validation (ta không chọn dựa vào độ lỗi dự đoán trên dữ liệu huấn luyện vì có thể xảy ra trường hợp \"học vẹt\": cách tiền xử lý + mô hình có độ lỗi rất thấp trên dữ liệu huấn luyện nhưng lại có độ lỗi cao với dữ liệu mới ngoài dữ liệu huấn luyện). Khi đã chọn xong cách tiền xử lý + mô hình rồi thì ta sẽ đo một lần duy nhất độ lỗi dự đoán trên dữ liệu kiểm tra để có một ước lượng khách quan về độ lỗi thật sự! Nếu bạn nhìn vào độ lỗi dự đoán trên dữ liệu kiểm tra và quay lại điều chỉnh cách tiền xử lý + mô hình thì kết quả trên dữ liệu kiểm tra sẽ không còn sự khách quan nữa!\n",
    "\n",
    "Đoạn code dưới đây sẽ đọc dữ liệu từ file \"mnist.pkl.gz\" và lưu kết quả vào 6 mảng:\n",
    "\n",
    "- `train_X`, `train_y`\n",
    "- `val_X`, `val_y`\n",
    "- `test_X`, `test_y`"
   ]
  },
  {
   "cell_type": "code",
   "execution_count": 3,
   "id": "85445e3b-6dce-4d17-8c75-2cdf31902f57",
   "metadata": {
    "tags": []
   },
   "outputs": [
    {
     "ename": "FileNotFoundError",
     "evalue": "[Errno 2] No such file or directory: '/home/vyquochuy/data/mnist.pkl.gz'",
     "output_type": "error",
     "traceback": [
      "\u001b[31m---------------------------------------------------------------------------\u001b[39m",
      "\u001b[31mFileNotFoundError\u001b[39m                         Traceback (most recent call last)",
      "\u001b[36mCell\u001b[39m\u001b[36m \u001b[39m\u001b[32mIn[3]\u001b[39m\u001b[32m, line 18\u001b[39m\n\u001b[32m     13\u001b[39m     \u001b[38;5;28;01mreturn\u001b[39;00m train_X, train_Y, val_X, val_Y, test_X, test_Y\n\u001b[32m     15\u001b[39m \u001b[38;5;66;03m# Bạn cần đặt file \"mnist.pkl.gz\" vào cùng thư mục với file notebook này,\u001b[39;00m\n\u001b[32m     16\u001b[39m \u001b[38;5;66;03m# hoặc bạn cũng có thể đặt ở thư mục tương ứng với câu lệnh này:\u001b[39;00m\n\u001b[32m     17\u001b[39m \u001b[38;5;66;03m# os.path.join(os.path.expanduser('~'), 'data')\u001b[39;00m\n\u001b[32m---> \u001b[39m\u001b[32m18\u001b[39m train_X, train_y, val_X, val_y, test_X, test_y = \u001b[43mread_mnist\u001b[49m\u001b[43m(\u001b[49m\u001b[33;43m'\u001b[39;49m\u001b[33;43mmnist.pkl.gz\u001b[39;49m\u001b[33;43m'\u001b[39;49m\u001b[43m)\u001b[49m\n\u001b[32m     19\u001b[39m \u001b[38;5;28mprint\u001b[39m(\u001b[33mf\u001b[39m\u001b[33m'\u001b[39m\u001b[33mShape of train_X: \u001b[39m\u001b[38;5;132;01m{\u001b[39;00mtrain_X.shape\u001b[38;5;132;01m}\u001b[39;00m\u001b[33m, shape of train_y: \u001b[39m\u001b[38;5;132;01m{\u001b[39;00mtrain_y.shape\u001b[38;5;132;01m}\u001b[39;00m\u001b[33m'\u001b[39m)\n\u001b[32m     20\u001b[39m \u001b[38;5;28mprint\u001b[39m(\u001b[33mf\u001b[39m\u001b[33m'\u001b[39m\u001b[33mShape of val_X:   \u001b[39m\u001b[38;5;132;01m{\u001b[39;00mval_X.shape\u001b[38;5;132;01m}\u001b[39;00m\u001b[33m, shape of val_y:   \u001b[39m\u001b[38;5;132;01m{\u001b[39;00mval_y.shape\u001b[38;5;132;01m}\u001b[39;00m\u001b[33m'\u001b[39m)\n",
      "\u001b[36mCell\u001b[39m\u001b[36m \u001b[39m\u001b[32mIn[3]\u001b[39m\u001b[32m, line 5\u001b[39m, in \u001b[36mread_mnist\u001b[39m\u001b[34m(mnist_file)\u001b[39m\n\u001b[32m      2\u001b[39m \u001b[38;5;28;01mif\u001b[39;00m os.path.isfile(mnist_file) == \u001b[38;5;28;01mFalse\u001b[39;00m:\n\u001b[32m      3\u001b[39m     mnist_file = os.path.join(os.path.expanduser(\u001b[33m'\u001b[39m\u001b[33m~\u001b[39m\u001b[33m'\u001b[39m), \u001b[33m'\u001b[39m\u001b[33mdata\u001b[39m\u001b[33m'\u001b[39m, \u001b[33m'\u001b[39m\u001b[33mmnist.pkl.gz\u001b[39m\u001b[33m'\u001b[39m)\n\u001b[32m----> \u001b[39m\u001b[32m5\u001b[39m f = \u001b[43mgzip\u001b[49m\u001b[43m.\u001b[49m\u001b[43mopen\u001b[49m\u001b[43m(\u001b[49m\u001b[43mmnist_file\u001b[49m\u001b[43m,\u001b[49m\u001b[43m \u001b[49m\u001b[33;43m'\u001b[39;49m\u001b[33;43mrb\u001b[39;49m\u001b[33;43m'\u001b[39;49m\u001b[43m)\u001b[49m\n\u001b[32m      6\u001b[39m train_data, val_data, test_data = pickle.load(f, encoding=\u001b[33m'\u001b[39m\u001b[33mlatin1\u001b[39m\u001b[33m'\u001b[39m)\n\u001b[32m      7\u001b[39m f.close()\n",
      "\u001b[36mFile \u001b[39m\u001b[32m~/miniconda3/envs/ml-env/lib/python3.11/gzip.py:58\u001b[39m, in \u001b[36mopen\u001b[39m\u001b[34m(filename, mode, compresslevel, encoding, errors, newline)\u001b[39m\n\u001b[32m     56\u001b[39m gz_mode = mode.replace(\u001b[33m\"\u001b[39m\u001b[33mt\u001b[39m\u001b[33m\"\u001b[39m, \u001b[33m\"\u001b[39m\u001b[33m\"\u001b[39m)\n\u001b[32m     57\u001b[39m \u001b[38;5;28;01mif\u001b[39;00m \u001b[38;5;28misinstance\u001b[39m(filename, (\u001b[38;5;28mstr\u001b[39m, \u001b[38;5;28mbytes\u001b[39m, os.PathLike)):\n\u001b[32m---> \u001b[39m\u001b[32m58\u001b[39m     binary_file = \u001b[43mGzipFile\u001b[49m\u001b[43m(\u001b[49m\u001b[43mfilename\u001b[49m\u001b[43m,\u001b[49m\u001b[43m \u001b[49m\u001b[43mgz_mode\u001b[49m\u001b[43m,\u001b[49m\u001b[43m \u001b[49m\u001b[43mcompresslevel\u001b[49m\u001b[43m)\u001b[49m\n\u001b[32m     59\u001b[39m \u001b[38;5;28;01melif\u001b[39;00m \u001b[38;5;28mhasattr\u001b[39m(filename, \u001b[33m\"\u001b[39m\u001b[33mread\u001b[39m\u001b[33m\"\u001b[39m) \u001b[38;5;129;01mor\u001b[39;00m \u001b[38;5;28mhasattr\u001b[39m(filename, \u001b[33m\"\u001b[39m\u001b[33mwrite\u001b[39m\u001b[33m\"\u001b[39m):\n\u001b[32m     60\u001b[39m     binary_file = GzipFile(\u001b[38;5;28;01mNone\u001b[39;00m, gz_mode, compresslevel, filename)\n",
      "\u001b[36mFile \u001b[39m\u001b[32m~/miniconda3/envs/ml-env/lib/python3.11/gzip.py:174\u001b[39m, in \u001b[36mGzipFile.__init__\u001b[39m\u001b[34m(self, filename, mode, compresslevel, fileobj, mtime)\u001b[39m\n\u001b[32m    172\u001b[39m     mode += \u001b[33m'\u001b[39m\u001b[33mb\u001b[39m\u001b[33m'\u001b[39m\n\u001b[32m    173\u001b[39m \u001b[38;5;28;01mif\u001b[39;00m fileobj \u001b[38;5;129;01mis\u001b[39;00m \u001b[38;5;28;01mNone\u001b[39;00m:\n\u001b[32m--> \u001b[39m\u001b[32m174\u001b[39m     fileobj = \u001b[38;5;28mself\u001b[39m.myfileobj = \u001b[43mbuiltins\u001b[49m\u001b[43m.\u001b[49m\u001b[43mopen\u001b[49m\u001b[43m(\u001b[49m\u001b[43mfilename\u001b[49m\u001b[43m,\u001b[49m\u001b[43m \u001b[49m\u001b[43mmode\u001b[49m\u001b[43m \u001b[49m\u001b[38;5;129;43;01mor\u001b[39;49;00m\u001b[43m \u001b[49m\u001b[33;43m'\u001b[39;49m\u001b[33;43mrb\u001b[39;49m\u001b[33;43m'\u001b[39;49m\u001b[43m)\u001b[49m\n\u001b[32m    175\u001b[39m \u001b[38;5;28;01mif\u001b[39;00m filename \u001b[38;5;129;01mis\u001b[39;00m \u001b[38;5;28;01mNone\u001b[39;00m:\n\u001b[32m    176\u001b[39m     filename = \u001b[38;5;28mgetattr\u001b[39m(fileobj, \u001b[33m'\u001b[39m\u001b[33mname\u001b[39m\u001b[33m'\u001b[39m, \u001b[33m'\u001b[39m\u001b[33m'\u001b[39m)\n",
      "\u001b[31mFileNotFoundError\u001b[39m: [Errno 2] No such file or directory: '/home/vyquochuy/data/mnist.pkl.gz'"
     ]
    }
   ],
   "source": [
    "def read_mnist(mnist_file):\n",
    "    if os.path.isfile(mnist_file) == False:\n",
    "        mnist_file = os.path.join(os.path.expanduser('~'), 'data', 'mnist.pkl.gz')\n",
    "    \n",
    "    f = gzip.open(mnist_file, 'rb')\n",
    "    train_data, val_data, test_data = pickle.load(f, encoding='latin1')\n",
    "    f.close()\n",
    "    \n",
    "    train_X, train_Y = train_data\n",
    "    val_X, val_Y = val_data\n",
    "    test_X, test_Y = test_data    \n",
    "    \n",
    "    return train_X, train_Y, val_X, val_Y, test_X, test_Y\n",
    "\n",
    "# Bạn cần đặt file \"mnist.pkl.gz\" vào cùng thư mục với file notebook này,\n",
    "# hoặc bạn cũng có thể đặt ở thư mục tương ứng với câu lệnh này:\n",
    "# os.path.join(os.path.expanduser('~'), 'data')\n",
    "train_X, train_y, val_X, val_y, test_X, test_y = read_mnist('mnist.pkl.gz')\n",
    "print(f'Shape of train_X: {train_X.shape}, shape of train_y: {train_y.shape}')\n",
    "print(f'Shape of val_X:   {val_X.shape}, shape of val_y:   {val_y.shape}')\n",
    "print(f'Shape of test_X:  {test_X.shape}, shape of test_y:  {test_y.shape}')"
   ]
  },
  {
   "cell_type": "markdown",
   "id": "ace86f28-80c3-40a2-9540-2bc771fb9cb6",
   "metadata": {},
   "source": [
    "## Khám phá dữ liệu huấn luyện"
   ]
  },
  {
   "cell_type": "markdown",
   "id": "099fcbee-ef4c-4e25-981f-6d496c2d69c6",
   "metadata": {},
   "source": [
    "Đầu tiên, ta hãy xem thử min và max của `train_X`."
   ]
  },
  {
   "cell_type": "code",
   "execution_count": null,
   "id": "394d7905-7d70-4940-b845-261f55c33fda",
   "metadata": {
    "tags": []
   },
   "outputs": [],
   "source": [
    "print(f'Min of train_X: {train_X.min()}, max of train_X: {train_X.max()}')"
   ]
  },
  {
   "cell_type": "markdown",
   "id": "d2eadedd-8a35-4e8d-8586-4888358f7440",
   "metadata": {},
   "source": [
    "Với ảnh xám thì giá trị của mỗi pixel thường sẽ nằm trong đoạn [0, 255] (với 0 là màu đen và 255 là màu trắng), hoặc đôi khi được chuẩn hóa về đoạn [0, 1] (với 0 là màu đen và 1 là màu trắng). Ở đây có vẻ giá trị pixel của ảnh xám của ta nằm trong đoạn [0, 1]."
   ]
  },
  {
   "cell_type": "markdown",
   "id": "46549653-485d-41b5-b91c-5cf252fb7124",
   "metadata": {},
   "source": [
    "Tiếp theo, ta hãy thử xem mặt mũi của vài ảnh trong `train_X`."
   ]
  },
  {
   "cell_type": "code",
   "execution_count": null,
   "id": "9a94fc50-4ade-4eaf-81f5-79c4ada1d743",
   "metadata": {
    "tags": []
   },
   "outputs": [],
   "source": [
    "# Bạn có thể chạy cell này nhiều lần để xem các ảnh ngẫu nhiên khác nhau\n",
    "n_rimages = 10; n_cimages = 10 \n",
    "padding = 2 \n",
    "canvas = 0.5 * np.ones((n_rimages * (28 + 2 * padding), n_cimages * (28 + 2 * padding)))\n",
    "rand_idxs = np.random.permutation(np.arange(len(train_X))[:n_rimages * n_cimages])\n",
    "for r in range(n_rimages):\n",
    "    for c in range(n_cimages):\n",
    "        i = r * n_cimages + c\n",
    "        image = train_X[rand_idxs[i]].reshape(28, 28)\n",
    "        temp1 = r * (28 + 2 * padding) + padding \n",
    "        temp2 = c * (28 + 2 * padding) + padding \n",
    "        canvas[temp1:temp1 + 28, temp2:temp2 + 28] = image\n",
    "plt.imshow(canvas, cmap='gray', vmin=0, vmax=1)\n",
    "plt.grid(None); plt.axis('off');"
   ]
  },
  {
   "cell_type": "markdown",
   "id": "08685f3c-9d7b-4375-841d-487869da1a6c",
   "metadata": {},
   "source": [
    "Tiếp theo, ta hãy xem các giá trị có thể có của `train_y` và số lượng của mỗi giá trị này."
   ]
  },
  {
   "cell_type": "code",
   "execution_count": null,
   "id": "007764a3-a643-40ac-be6c-ae733092e08c",
   "metadata": {
    "tags": []
   },
   "outputs": [],
   "source": [
    "values, counts = np.unique(train_y, return_counts=True)\n",
    "for value, count in zip(values, counts):\n",
    "    print(f'Value: {value}, count: {count}')"
   ]
  },
  {
   "cell_type": "markdown",
   "id": "a020ebd9-3e89-42d8-b3cc-0b40fba13091",
   "metadata": {},
   "source": [
    "Như vậy là `train_y` có 10 giá trị có thể có ứng với 10 chữ số từ 0 đến 9. Và số lượng ảnh của mỗi chữ số cũng khá tương đương nhau. Tốt ..."
   ]
  },
  {
   "cell_type": "markdown",
   "id": "abb6f806-ac87-4866-b78d-4c0f6ceb2fbd",
   "metadata": {},
   "source": [
    "## Tiền xử lý dữ liệu huấn luyện"
   ]
  },
  {
   "cell_type": "markdown",
   "id": "83071e7b-2c98-46b9-bf30-fbb8855bfae1",
   "metadata": {},
   "source": [
    "Tương tự như mô hình Linear Regression ở HW1, với mô hình Softmax Regression trong bài này thì đầu tiên ta cũng sẽ thêm cột toàn 1 vào đầu `train_X`; bằng cách này, những tính toán về sau sẽ được thuận tiện hơn."
   ]
  },
  {
   "cell_type": "code",
   "execution_count": null,
   "id": "cd0e8b5d-c8f5-4722-8bd1-2b0524c0ebc9",
   "metadata": {
    "tags": []
   },
   "outputs": [],
   "source": [
    "def add_ones(X):\n",
    "    return np.hstack((np.ones((len(X), 1)), X))\n",
    "\n",
    "# Gọi hàm add_ones để tiền xử lý train_X\n",
    "train_Z = add_ones(train_X)\n",
    "train_Z.shape"
   ]
  },
  {
   "cell_type": "markdown",
   "id": "68f9fec7-a85b-4a6b-8395-31c9cce2d3ec",
   "metadata": {},
   "source": [
    "## Tìm mô hình Softmax Regression từ dữ liệu huấn luyện"
   ]
  },
  {
   "cell_type": "markdown",
   "id": "e51d6b96-c45b-4b98-b367-d764dea2fdb9",
   "metadata": {},
   "source": [
    "Ta sẽ tìm bộ trọng số của mô hình Softmax Regression bằng cách cực tiểu hóa độ lỗi cross-entropy trên dữ liệu huấn luyện. Bạn có thể xem công thức tính độ lỗi cross-entropy ở trang 6 của slide \"HW2-Slide.pdf\" mà mình đính kèm. Ở đây, ta không thể giải ra trực tiếp bộ trọng số như ở mô hình Linear Regression, mà cần phải dùng một thuật toán cực tiểu hóa mà ban đầu sẽ khởi tạo đại bộ trọng số, rồi sẽ thực hiện nhiều vòng lặp, ở mỗi vòng lặp sẽ cập nhật bộ trọng số một ít để làm giảm độ lỗi trên dữ liệu huấn luyện. Trong bài này, ta sẽ cài đặt một thuật toán cực tiểu hóa đơn giản là Gradient Descent. Bạn có thể xem các bước của thuật toán Gradient Descent để tìm bộ trọng số của Softmax Regression ở trang 8-11 của slide \"HW2-Slide.pdf\". Theo đó thì ở mỗi vòng lặp, để tính gradient thì trước tiên ta sẽ cần tính các véc-tơ đầu ra của mô hình Softmax Regression ứng với các véc-tơ đầu vào của dữ liệu huấn luyện và bộ trọng số hiện tại.\n",
    "\n",
    "***Nhiệm vụ 1 của bạn (2đ):*** viết hàm `compute_smreg_output` để tính các véc-tơ đầu ra (hoặc các đầu ra) của mô hình Softmax Regression; ta sẽ dùng hàm này trong quá trình huấn luyện mô hình Softmax Regression (như đã nói ở trên) cũng như sau khi huấn huyện để dự đoán với các véc-tơ đầu vào mới.\n",
    "\n",
    "Hàm `compute_smreg_output` có các tham số đầu vào:\n",
    "- `W`: mảng chứa các trọng số của mô hình Softmax Regression, mảng này có shape là `(d+1, K)` với `d` là số lượng phần tử của véc-tơ đầu vào (khi chưa thêm 1 ở đầu) và `K` là số lượng lớp; với dữ liệu cụ thể của ta thì `d` bằng 784 và `K` bằng 10  \n",
    "- `X`: mảng chứa các véc-tơ đầu vào cần dự đoán, mảng này có shape là `(N, d+1)` với `N` là số lượng các véc-tơ đầu vào\n",
    "- `return_prob`: nếu cờ này bằng `True` thì với mỗi véc-tơ đầu vào, ta sẽ trả về một véc-tơ đầu ra cho biết xác xuất của các lớp; nếu cờ này bằng `False` thì với mỗi véc-tơ đầu vào, ta sẽ trả về một giá trị đầu ra cho biết lớp mà có xác suất lớn nhất\n",
    "\n",
    "Hàm `compute_smreg_output` sẽ trả về mảng chứa các véc-tơ đầu ra (hoặc các đầu ra) tương ứng với các véc-tơ đầu vào; nếu `return_prop` bằng True thì mảng trả về sẽ có shape `(N, K)`, còn nếu `return_prop` bằng `False` thì sẽ có shape `(N,)`."
   ]
  },
  {
   "cell_type": "code",
   "execution_count": null,
   "id": "2210e4f0-5115-4188-b7a8-e31f90cdb566",
   "metadata": {
    "deletable": false,
    "nbgrader": {
     "cell_type": "code",
     "checksum": "0e5703c47a59b4e5dd8b75ca0d27cf12",
     "grade": false,
     "grade_id": "cell-05d19f16c2fdf7f9",
     "locked": false,
     "schema_version": 3,
     "solution": true,
     "task": false
    },
    "tags": []
   },
   "outputs": [],
   "source": [
    "def compute_smreg_output(W, X, return_prob=True):\n",
    "    # YOUR CODE HERE\n",
    "    # Tính z = XW, shape (N, K)\n",
    "    z = np.dot(X, W)\n",
    "\n",
    "    # Để tránh overflow, chuẩn hóa z trước khi tính softmax\n",
    "    z -= np.max(z, axis=1, keepdims=True)\n",
    "\n",
    "    # Softmax: e^z / sum(e^z)\n",
    "    exp_z = np.exp(z)\n",
    "    probs = exp_z / np.sum(exp_z, axis=1, keepdims=True)\n",
    "\n",
    "    return probs if return_prob else np.argmax(probs, axis=1)\n"
   ]
  },
  {
   "cell_type": "code",
   "execution_count": null,
   "id": "929bd9fd-b5f0-42b3-b959-bbd4e80987aa",
   "metadata": {
    "deletable": false,
    "editable": false,
    "nbgrader": {
     "cell_type": "code",
     "checksum": "b0cb2bdf493e5b559575dc7ee27380d7",
     "grade": true,
     "grade_id": "cell-ef833cf8032b23ea",
     "locked": true,
     "points": 2,
     "schema_version": 3,
     "solution": false,
     "task": false
    },
    "tags": []
   },
   "outputs": [],
   "source": [
    "# TEST\n",
    "# Tạo một mảng X với 4 dòng ứng với 4 véc-tơ đầu vào (đã thêm 1 ở đầu)\n",
    "X = np.array([[1.0, 0.9], \n",
    "              [1.0, 0.5], \n",
    "              [1.0, 0.4],\n",
    "              [1.0, 0.1]])\n",
    "# Tạo một mảng W gồm có 3 cột ứng với bộ trọng số của 3 lớp\n",
    "W = np.array([[ 0.3 ,  0.2 ,  0.5 ],\n",
    "              [-0.1 , -0.2 , -0.35]])\n",
    "# Kiểm tra hàm compute_smreg_output của bạn!\n",
    "predicted_Y = compute_smreg_output(W, X)\n",
    "assert predicted_Y.shape == (4, 3)\n",
    "assert str(predicted_Y[0][0].round(4)) == '0.3569'\n",
    "assert str(predicted_Y[1][0].round(4)) == '0.3403'\n",
    "assert str(predicted_Y[2][0].round(4)) == '0.3362'\n",
    "assert str(predicted_Y[3][0].round(4)) == '0.3239'\n",
    "predicted_y = compute_smreg_output(W, X, return_prob=False)\n",
    "assert predicted_y.shape == (4,)\n",
    "assert list(predicted_y) == [0, 2, 2, 2]"
   ]
  },
  {
   "cell_type": "markdown",
   "id": "57d5447f-e41e-42b6-9920-fc7d394e8a1a",
   "metadata": {},
   "source": [
    "***Sau khi đã xong nhiệm vụ 1 thì bây giờ là nhiệm vụ 2 và cũng là nhiệm vụ chính của bạn (4đ):*** viết hàm `train_smreg` (trong hàm này thì bạn có thể dùng hàm `compute_smreg_output` mà bạn đã viết ở nhiệm vụ 1).\n",
    "\n",
    "Hàm `train_smreg` có các tham số đầu vào:\n",
    "- `X`: mảng chứa các véc-tơ đầu vào (đã được thêm 1 ở đầu) của dữ liệu huấn luyện, mảng này có shape là `(N, d+1)` với `N` là số lượng véc-tơ đầu vào của dữ liệu huấn luyện và `d` là số lượng phần tử của mỗi véc-tơ đầu vào (khi chưa thêm 1 ở đầu)\n",
    "- `y`: mảng chứa các đầu ra tương ứng với các véc-tơ đầu vào của dữ liệu huấn luyện, mảng này có shape là `(N,)`\n",
    "- `lr`: số thực > 0 cho biết hệ số học (learning rate) của thuật toán Gradient Descent\n",
    "- `max_epoch`: số nguyên > 0 cho biết số vòng lặp tối đa của thuật toán Gradient Descent (ví dụ, nếu `max_epoch` bằng 10 thì ta sẽ chạy Gradient Descent với 10 vòng lặp)\n",
    "- `initial_W`: mảng chứa các trọng số khởi tạo của mô hình Softmax Regression (ta sẽ chạy Gradient Descent từ các trọng số khởi tạo này), mảng này có shape là `(d+1, K)` với `K` là số lượng các lớp (với dữ liệu cụ thể của ta thì `K` bằng 10); nếu `initial_W` bằng `None` thì trong hàm `train_smreg` ta sẽ khởi tạo các trọng số của mô hình Softmax Regression với giá trị là 0 (với mô hình Softmax Regression thì ta khởi tạo như thế nào cũng được, ở đây ta thống nhất là khởi tạo với giá trị là 0 để thầy và trò sẽ ra cùng kết quả)\n",
    "\n",
    "Hàm `train_smreg` trả về:\n",
    "- Mảng chứa các trọng số tìm được của mô hình Softmax Regression, mảng này có shape là `(d+1, K)`\n",
    "- List chứa độ lỗi cross-entropy trên dữ liệu huấn luyện sau mỗi vòng lặp, list này gồm có `max_epoch` phần tử. Bạn xem công thức tính độ lỗi cross-entropy trên dữ liệu huấn luyện ở trang 6 của slide \"HW2-Slide.pdf\"\n",
    "\n",
    "Trong hàm `train_smreg` thì bước khó nhất là bước tính gradient. Bạn có thể xem công thức tính gradient ở trang 10 của slide \"HW2-Slide.pdf\". Cái khó và cũng là cái hay ở đây là từ công thức này, ta phải suy nghĩ ra cách code để tính gradient bằng các toán-tử/hàm/phương-thức của Numpy mà không dùng vòng lặp, vì nếu dùng vòng lặp thì code sẽ dài và chạy chậm (với vòng lặp ngoài cùng Gradient Descent thì bạn được phép dùng vòng lặp để cài đặt). Mình sẽ giúp đỡ bạn một xíu bằng cách đưa ra một ví dụ cụ thể và bạn có thể dùng kiểm tra xem code tính gradient của bạn có đúng hay không trước khi đưa code này vào hàm `train_smreg`."
   ]
  },
  {
   "cell_type": "code",
   "execution_count": null,
   "id": "13cbcc08-6485-49fa-936c-d1a7e483396d",
   "metadata": {
    "tags": []
   },
   "outputs": [],
   "source": [
    "# Giả sử ta có mảng X với 4 dòng ứng với 4 véc-tơ đầu vào (đã thêm 1 ở đầu)\n",
    "X = np.array([[1.0, 0.9], \n",
    "              [1.0, 0.5], \n",
    "              [1.0, 0.4],\n",
    "              [1.0, 0.1]])\n",
    "# Và đây là mảng Y (viết hoa) với:\n",
    "# - 4 dòng ứng với 4 véc-tơ đầu ra dạng one-hot (ứng với 4 véc-tơ đầu vào của mảng X)\n",
    "# - 3 cột ứng với 3 lớp\n",
    "Y = np.array([[1, 0, 0], \n",
    "              [0, 1, 0], \n",
    "              [0, 0, 1], \n",
    "              [1, 0, 0]])\n",
    "# Và đây là mảng predicted_Y với 4 dòng ứng với 4 véc-tơ đầu ra dự đoán (véc-tơ \n",
    "# chứa xác suất của các lớp) của mô hình Softmax Regression với bộ trọng số hiện tại\n",
    "# (4 véc-tơ đầu ra dự đoán này ứng với 4 véc-tơ đầu vào của mảng X)\n",
    "predicted_Y = np.array([[0.3569, 0.2951, 0.348 ],\n",
    "                        [0.3403, 0.2929, 0.3668],\n",
    "                        [0.3362, 0.2923, 0.3715],\n",
    "                        [0.3239, 0.2902, 0.3859]])\n",
    "\n",
    "# Tính gradient từ X, Y, và predicted_Y (chỉ cần 1 dòng code ;-) )\n",
    "# grad = np.dot(X.T, (predicted_Y - Y)) / len(X)\n",
    "# print(grad)\n",
    "# Nếu bạn tính gradient đúng thì kết quả in ra của mảng grad sẽ là:\n",
    "# [[-0.160675   0.042625   0.11805  ]\n",
    "#  [-0.0854425  0.014495   0.0709475]]\n"
   ]
  },
  {
   "cell_type": "code",
   "execution_count": null,
   "id": "bc7dd9fd-3e91-4706-8b57-21a9ed2d2ab7",
   "metadata": {
    "deletable": false,
    "nbgrader": {
     "cell_type": "code",
     "checksum": "9387129e307d4ec48fe85ce5bf8bdf09",
     "grade": false,
     "grade_id": "cell-0721a0367e67f425",
     "locked": false,
     "schema_version": 3,
     "solution": true,
     "task": false
    },
    "tags": []
   },
   "outputs": [],
   "source": [
    "# Ngoài hàm compute_smreg_output, nếu muốn thì bạn có thể viết thêm các hàm phụ \n",
    "# trợ khác cho hàm train_smreg\n",
    "# YOUR CODE HERE (OPTION)\n",
    "\n",
    "def compute_cross_entropy_loss(probs, y, K):\n",
    "    \"\"\"\n",
    "    Tính cross-entropy loss.\n",
    "    \n",
    "    Parameters:\n",
    "    - probs: Xác suất dự đoán, shape (N, K)\n",
    "    - y: Nhãn thực tế, shape (N,)\n",
    "    - K: Số lớp\n",
    "    \n",
    "    Returns:\n",
    "    - loss: Giá trị cross-entropy loss\n",
    "    \"\"\"\n",
    "    N = len(y)\n",
    "    y_one_hot = np.eye(K)[y]  # One-hot encoding\n",
    "    log_probs = np.log(probs + 1e-15)  # Tránh log(0)\n",
    "    loss = -np.sum(y_one_hot * log_probs) / N\n",
    "    return loss\n",
    "\n",
    "def train_smreg(X, y, lr, max_epoch, initial_W=None):\n",
    "    # YOUR CODE HERE\n",
    "    N, d_plus_1 = X.shape\n",
    "    K = np.max(y) + 1  # Số lớp\n",
    "\n",
    "    # Khởi tạo ma trận trọng số\n",
    "    W = np.zeros((d_plus_1, K)) if initial_W is None else initial_W.copy()\n",
    "    loss_list = []\n",
    "\n",
    "    for epoch in range(max_epoch):\n",
    "        # Bước 1: Tính xác suất dự đoán\n",
    "        probs = compute_smreg_output(W, X)\n",
    "        \n",
    "        # Bước 2: Tính gradient\n",
    "        grad = (np.dot(X.T, (probs - np.eye(K)[y])) / N)\n",
    "        \n",
    "        # Bước 3: Cập nhật trọng số\n",
    "        W -= lr * grad\n",
    "                \n",
    "        # Bước 4: Tính cross-entropy loss\n",
    "        probs = compute_smreg_output(W, X)\n",
    "        loss = compute_cross_entropy_loss(probs, y, K)\n",
    "        loss_list.append(loss)\n",
    "\n",
    "    return W, loss_list"
   ]
  },
  {
   "cell_type": "code",
   "execution_count": null,
   "id": "93c017f0-bea5-46ee-91ca-852246f1468e",
   "metadata": {
    "deletable": false,
    "editable": false,
    "nbgrader": {
     "cell_type": "code",
     "checksum": "dea161dc3dd0e0da9a492ee709e3d688",
     "grade": true,
     "grade_id": "cell-a04f7182d6a35cb4",
     "locked": true,
     "points": 4,
     "schema_version": 3,
     "solution": false,
     "task": false
    },
    "tags": []
   },
   "outputs": [],
   "source": [
    "# TEST\n",
    "W, train_ces = train_smreg(train_Z, train_y, lr=0.3, max_epoch=3)\n",
    "assert W.shape == (785, 10)\n",
    "assert str(W[0, 0].round(4)) == '-0.011'\n",
    "assert len(train_ces) == 3\n",
    "# print (train_ces)\n",
    "assert str(np.round(train_ces[0], 4)) == '2.0074'\n",
    "assert str(np.round(train_ces[1], 4)) == '1.7753'\n",
    "assert str(np.round(train_ces[2], 4)) == '1.5914'\n",
    "W, train_ces = train_smreg(train_Z, train_y, lr=0.3, max_epoch=3, initial_W=W)\n",
    "assert W.shape == (785, 10)\n",
    "assert str(W[0, 0].round(4)) == '-0.0215'\n",
    "assert len(train_ces) == 3\n",
    "# print (train_ces)\n",
    "assert str(np.round(train_ces[0], 4)) == '1.4458'\n",
    "assert str(np.round(train_ces[1], 4)) == '1.3295'\n",
    "assert str(np.round(train_ces[2], 4)) == '1.2354'"
   ]
  },
  {
   "cell_type": "markdown",
   "id": "51aafb53-148b-4ad8-a6d3-985756c13f27",
   "metadata": {},
   "source": [
    "Ở trên ta chỉ thử hàm `train_smreg` với `max_epoch` nhỏ (3) để có thể nhanh chóng kiểm tra tính đúng đắn của hàm `train_smreg`. Bây giờ mới là làm thật. Ta sẽ gọi `train_smreg` với `max_epoch` lớn. Tuy nhiên, ta sẽ cần chọn ra giá trị `lr` (learning rate) phù hợp để việc cực tiểu hóa của thuật toán Gradient Descent diễn ra một cách tốt đẹp. Để đỡ tốn thời gian, ta sẽ chia ra làm 2 giai đoạn. Ở giai đoạn đầu, ta sẽ gọi hàm `train_smreg` với `max_epoch` vừa vừa (100) và thử với các giá trị `lr`khác nhau (0.03, 0.3, 3). Sau khi quan sát kết quả, ta sẽ chọn ra giá trị `lr` phù hợp nhất, rồi qua giai đoạn 2: gọi tiếp hàm `train_smreg` với giá trị `lr` này và bộ trọng số tìm được trước đó và `max_epoch` lớn (400). Ta sẽ gọi bộ trọng số tìm được sau cùng là `W_1` (vì lúc sau ta sẽ thử một cách tiền xử lý + mô hình Softmax Regression khác, và ta sẽ gọi bộ trọng số tìm được là `W_2`)."
   ]
  },
  {
   "cell_type": "markdown",
   "id": "2965b305-c3c1-4737-8a38-a2b1178f975b",
   "metadata": {},
   "source": [
    "Đầu tiên là giai đoạn 1."
   ]
  },
  {
   "cell_type": "code",
   "execution_count": null,
   "id": "b781a076-184f-4354-a546-18f1888530aa",
   "metadata": {
    "tags": []
   },
   "outputs": [],
   "source": [
    "W_1a, train_ces_1a = train_smreg(train_Z, train_y, lr=0.03, max_epoch=100)\n",
    "W_1b, train_ces_1b = train_smreg(train_Z, train_y, lr=0.3, max_epoch=100)\n",
    "W_1c, train_ces_1c = train_smreg(train_Z, train_y, lr=3, max_epoch=100)\n",
    "\n",
    "plt.plot(np.log(train_ces_1a), label='lr=0.03', color='orange')\n",
    "plt.plot(np.log(train_ces_1b), label='lr=0.3', color='green')\n",
    "plt.plot(np.log(train_ces_1c), label='lr=3', color='red')\n",
    "plt.xlabel('Epoch')\n",
    "plt.ylabel('Log (for clarity) of training cross-entropy')\n",
    "plt.legend();"
   ]
  },
  {
   "cell_type": "markdown",
   "id": "743790f7-7916-446c-813b-249dc5873056",
   "metadata": {},
   "source": [
    "***Nhiệm vụ của bạn (1đ):*** mô tả kết quả và giải thích tại sao kết quả lại như vậy (nếu bạn không biết tại sao thì cứ nói là không biết tại sao)."
   ]
  },
  {
   "cell_type": "markdown",
   "id": "2bc7d9ed-322a-438b-9643-66ee7dafd19c",
   "metadata": {
    "deletable": false,
    "nbgrader": {
     "cell_type": "markdown",
     "checksum": "4b42954bd3fe3c346d09815f441212f3",
     "grade": true,
     "grade_id": "cell-5dc295653765d5ae",
     "locked": false,
     "points": 1,
     "schema_version": 3,
     "solution": true,
     "task": false
    },
    "tags": []
   },
   "source": [
    "YOUR ANSWER HERE\n",
    "\n",
    "1. lr=0.03 (Đường cam)\n",
    "    Hành vi: Log cross-entropy giảm dần một cách từ từ, bắt đầu từ khoảng 0.5 và ổn định ở mức thấp (gần 0.0 đến 0.5) sau một số epoch ban đầu. Có một chút tăng nhẹ về cuối (gần 1.0), nhưng dao động rất nhỏ.\n",
    "    Ý nghĩa:\n",
    "    Giá trị lr=0.03 cho phép mô hình học chậm và ổn định, tránh được các bước nhảy quá lớn trong quá trình Gradient Descent.\n",
    "    Đây là dấu hiệu của một learning rate phù hợp cho huấn luyện dài hạn, vì nó đảm bảo sự hội tụ mà không gây mất ổn định.\n",
    "2. lr=0.3 (Đường xanh lá)\n",
    "    Hành vi: Log cross-entropy giảm nhanh hơn ban đầu so với lr=0.03, chạm mức -0.5 quanh epoch 20, nhưng sau đó dao động mạnh giữa -0.5 và 0.5 trong suốt các epoch còn lại.\n",
    "    Ý nghĩa:\n",
    "    Giá trị lr=0.3 giúp mô hình học nhanh hơn ở giai đoạn đầu, nhưng do quá lớn, nó khiến thuật toán Gradient Descent không ổn định.\n",
    "    Thay vì hội tụ về một giá trị tối ưu, mô hình dao động quanh điểm đó, cho thấy lr này không phù hợp cho huấn luyện dài hạn.\n",
    "3. lr=3 (Đường đỏ)\n",
    "    Hành vi: Log cross-entropy giảm mạnh ban đầu, xuống gần -0.5 quanh epoch 10, nhưng sau đó tăng vọt lên 2.5 và dao động dữ dội giữa -0.5 và 2.5 trong suốt các epoch còn lại.\n",
    "    Ý nghĩa:\n",
    "    Giá trị lr=3 quá lớn, khiến Gradient Descent không thể hội tụ. Các bước cập nhật trọng số quá lớn làm mô hình \"nhảy\" qua điểm tối ưu, dẫn đến sự mất ổn định nghiêm trọng.\n",
    "    Đây là một ví dụ rõ ràng của việc chọn learning rate không phù hợp."
   ]
  },
  {
   "cell_type": "markdown",
   "id": "d8bd2e6b-6935-4979-81f3-09117ecf4adf",
   "metadata": {},
   "source": [
    "Nếu code của bạn đúng thì bạn sẽ thấy `lr=0.3` là giá trị phù hợp nhất. Tiếp theo, ta sẽ qua giai đoạn 2. "
   ]
  },
  {
   "cell_type": "code",
   "execution_count": null,
   "id": "a7fa0967-b28e-4edc-a4b8-9402d0f42040",
   "metadata": {
    "tags": []
   },
   "outputs": [],
   "source": [
    "W_1, train_ces = train_smreg(train_Z, train_y, lr=0.3, max_epoch=400, initial_W=W_1b)\n",
    "\n",
    "plt.plot(np.log(train_ces), color='green')\n",
    "plt.xlabel('Epoch')\n",
    "plt.ylabel('Log (for clarity) of training cross-entropy');"
   ]
  },
  {
   "cell_type": "markdown",
   "id": "5b43ccfb-e42f-4fb7-a7b7-d5c3af2399c7",
   "metadata": {},
   "source": [
    "Có vẻ là nếu ta tiếp tục chạy thì độ lỗi cross-entropy sẽ còn giảm nữa, nhưng thôi, trong bài này ta sẽ tạm dừng ở đây vì laptop của mình bắt đầu kêu rồi ..."
   ]
  },
  {
   "cell_type": "markdown",
   "id": "fad130a5-8136-4ca7-b921-99b018cfcb1d",
   "metadata": {},
   "source": [
    "## Dùng mô hình Softmax Regression tìm được để dự đoán với dữ liệu huấn luyện và đánh giá kết quả"
   ]
  },
  {
   "cell_type": "markdown",
   "id": "5725b9c4-bbe6-4d20-adf9-e9bdecaed559",
   "metadata": {},
   "source": [
    "Đầu tiên, ta sẽ dùng mô hình Softmax Regression tìm được để dự đoán với dữ liệu huấn luyện."
   ]
  },
  {
   "cell_type": "code",
   "execution_count": null,
   "id": "a78354c2-cd51-484c-b1e7-308698a9f183",
   "metadata": {
    "tags": []
   },
   "outputs": [],
   "source": [
    "predicted_train_y = compute_smreg_output(W_1, train_Z, return_prob=False)"
   ]
  },
  {
   "cell_type": "markdown",
   "id": "e63e1b95-37be-4bd8-8d22-12c47d1f0fe2",
   "metadata": {},
   "source": [
    "Tiếp theo, ta sẽ so sánh các đầu ra dự đoán với các đầu ra đúng và đánh giá kết quả.\n",
    "\n",
    "***Nhiệm vụ của bạn (1đ):*** viết hàm `compute_mbe` để tính độ lỗi MBE - Mean Binary Error; độ lỗi này là một số thực từ 0 đến 100 cho biết tỉ lệ phần trăm các mẫu bị dự đoán sai (độ lỗi cross-entropy giúp dễ cực tiểu hóa hơn trong quá trình huấn luyện, nhưng khi đánh giá thì độ lỗi MBE sẽ giúp con người dễ cảm nhận hơn).\n",
    "\n",
    "Hàm này nhận vào các tham số:\n",
    "- `predicted_y`: mảng chứa các đầu ra dự đoán, có shape là `(N,)`\n",
    "- `y`: mảng chứa các đầu ra đúng, cũng có shape là `(N,)`\n",
    "\n",
    "Hàm này trả về: số thực từ 0 đến 100 cho biết độ lỗi MBE giữa `predicted_y` và `y`."
   ]
  },
  {
   "cell_type": "code",
   "execution_count": null,
   "id": "896331f9-1ded-4809-b191-394f0b54e755",
   "metadata": {
    "deletable": false,
    "nbgrader": {
     "cell_type": "code",
     "checksum": "dcef45a58ebf1055c3499f004774336f",
     "grade": false,
     "grade_id": "cell-ad6eb020530af7e9",
     "locked": false,
     "schema_version": 3,
     "solution": true,
     "task": false
    },
    "tags": []
   },
   "outputs": [],
   "source": [
    "def compute_mbe(predicted_y, y):\n",
    "    # YOUR CODE HERE\n",
    "    N = len(y)\n",
    "    # Đếm số mẫu bị phân loại sai (predicted_y khác y)\n",
    "    error_count = np.sum(predicted_y != y)\n",
    "    # Tính tỷ lệ lỗi trung bình\n",
    "    mbe = error_count / N\n",
    "    return mbe * 100\n",
    "\n",
    "# Gọi hàm compute_mbe để tính độ lỗi giữa predicted_train_y và train_y\n",
    "train_mbe = compute_mbe(predicted_train_y, train_y)"
   ]
  },
  {
   "cell_type": "code",
   "execution_count": null,
   "id": "ede66cb2-ec8b-4e37-bba4-52f794b5b98c",
   "metadata": {
    "deletable": false,
    "editable": false,
    "nbgrader": {
     "cell_type": "code",
     "checksum": "ed5c5423ca3a8c63ba2f07a76804c138",
     "grade": true,
     "grade_id": "cell-fee1b637d6b34faf",
     "locked": true,
     "points": 1,
     "schema_version": 3,
     "solution": false,
     "task": false
    },
    "tags": []
   },
   "outputs": [],
   "source": [
    "# TEST\n",
    "# print(f'Train MBE: {train_mbe}')\n",
    "assert str(np.round(train_mbe, 4)) == '9.192'"
   ]
  },
  {
   "cell_type": "markdown",
   "id": "c99250d0-1c9f-4789-b632-6449b3baad33",
   "metadata": {},
   "source": [
    "## Tiền xử lý dữ liệu validation, dùng mô hình Softmax Regression tìm được để dự đoán với dữ liệu validation và đánh giá kết quả"
   ]
  },
  {
   "cell_type": "code",
   "execution_count": null,
   "id": "01a7a007-186b-472b-9724-09d1417ac849",
   "metadata": {
    "tags": []
   },
   "outputs": [],
   "source": [
    "val_Z = add_ones(val_X)\n",
    "predicted_val_y = compute_smreg_output(W_1, val_Z, return_prob=False)\n",
    "val_mbe = compute_mbe(predicted_val_y, val_y)\n",
    "assert str(np.round(val_mbe, 4)) == '8.36'"
   ]
  },
  {
   "cell_type": "markdown",
   "id": "a298e9fd-a9bd-4593-a937-45ce22b257e3",
   "metadata": {},
   "source": [
    "## Đưa ra ý tưởng cải tiến"
   ]
  },
  {
   "cell_type": "markdown",
   "id": "8e301768-8bd2-4dce-afbb-1559b73250d3",
   "metadata": {},
   "source": [
    "Ta thấy hiện giờ mô hình Softmax Regression tìm được của ta có độ lỗi khá cao trên cả dữ liệu huấn luyện lẫn dữ liệu validation. Nếu ta có thể làm giảm độ lỗi trên dữ liệu huấn luyện thì có khả năng độ lỗi trên dữ liệu validation cũng sẽ giảm theo. Một cách để làm giảm độ lỗi trên dữ liệu huấn luyện là tăng thêm số lượng vòng lặp của thuật toán Gradient Descent. Tuy nhiên, sau cùng thì mô hình Softmax Regression vẫn là một mô hình đơn giản. Do đó, ở đây, mình muốn đưa ra một cách khác mà có thể giúp làm giảm độ lỗi trên dữ liệu huấn luyện của mô hình Softmax Regression - một mô hình đơn giản. Cách này tương tự như cách mà ta đã làm ở HW1: suy nghĩ để thiết kế ra véc-tơ đầu vào $\\textbf{z}$ thay cho véc-tơ đầu vào $\\textbf{x}$ sao cho véc-tơ đầu vào $\\textbf{z}$ sẽ giúp mô hình Softmax Regression dự đoán đầu ra $y$ tốt hơn hơn so với véc-tơ đầu vào $\\textbf{x}$. Cụ thể ở đây, ta sẽ thử một cách thiết kế đơn giản cho véc-tơ đầu vào $\\textbf{z}$: $\\textbf{z}$ là $\\textbf{x}$ (chứa các giá trị pixel) được bổ sung thêm một đặc trưng nào đó mà sẽ giúp ích cho việc phân tách các chữ số với nhau."
   ]
  },
  {
   "cell_type": "markdown",
   "id": "cf8119f7-15f0-4a7b-b366-8fc7d65b4891",
   "metadata": {},
   "source": [
    "Để minh họa cho ý tưởng của đặc trưng này, ta hãy xét 3 ảnh ví dụ ở bên dưới lần lượt ứng với chữ số 1, 6, 9."
   ]
  },
  {
   "cell_type": "markdown",
   "id": "8b023619-a24b-4d94-8a39-f6267b72919e",
   "metadata": {},
   "source": [
    "![feature_idea.jpg](data:image/jpeg;base64,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)"
   ]
  },
  {
   "cell_type": "markdown",
   "id": "f3773ed0-ee3d-47cc-accc-9a328bb9b552",
   "metadata": {},
   "source": [
    "Trong mỗi ảnh, điểm màu xanh là điểm \"trọng tâm\" của chữ số. Có thể thấy, với chữ số 1, điểm \"trọng tâm\" màu xanh này nằm ở giữa giữa của chữ số (do các pixel của chữ số 1 được phân bố khá đồng đều giữa nửa trên và nửa dưới của chữ số), còn chữ số 6 thì điểm \"trọng tâm\" nằm hơi ở nửa dưới của chữ số (do các pixel của chữ số 6 được phân bố nhiều hơn ở nửa dưới của chữ số), còn chữ số 9 thì điểm \"trọng tâm\" lại nằm hơi ở nửa trên của chữ số (do các pixel của chữ số 9 được phân bố nhiều hơn ở nửa trên của chữ số). Do đó, ta có thể thiết kế đặc trưng là khoảng cách giữa dòng mà đi qua điểm \"trọng tâm\" của chữ số với dòng đầu tiên mà đi qua pixel của chữ số; với chữ số 1 thì đặc trưng này sẽ có giá trị trung, với chữ số 6 thì đặc trưng này sẽ có giá trị lớn, còn chữ số 9 thì có giá trị nhỏ!"
   ]
  },
  {
   "cell_type": "markdown",
   "id": "801c8fdb-9240-4dff-8d7c-bc4f0eea56c0",
   "metadata": {},
   "source": [
    "Cụ thể cách tính đặc trưng này cho một ảnh được thể hiện ở hình bên dưới (ảnh đang xét là ảnh chữ số 1)."
   ]
  },
  {
   "cell_type": "markdown",
   "id": "e821dbf5-400d-495c-8004-dbb43ecec3bc",
   "metadata": {},
   "source": [
    "![feature_detail.png](data:image/png;base64,iVBORw0KGgoAAAANSUhEUgAAAg4AAAHvCAIAAACzKcDUAAAACXBIWXMAABYlAAAWJQFJUiTwAAAgAElEQVR4nOzdeVwTd/4/8PdMQi4gCYQb5JZb8OBS1OKNWBHP1pXaWntuu2232+5+2+3utr9dv9v222677drWbe1qq9UKIq53BbxvEEUOuUFuCAmQQO6Z3x9DY0yCkYIXvJ9/9GE+82GYUJhX5nPCX/7yF0AIIYQG4e/vT97va0AIIfSgw6hACCFkA0YFQgghGzAqEEII2YBRgRBCyAaMCoQQQjZgVCCEELIBowIhhJANGBUIIYRswKhA6D6YP3/+999/v3nz5tjY2BE5oaOj4yuvvJKbm/vnP/+ZxWKNyDkRMmLf7wtAaCRt2rTJz8/vNhWysrL27dvX3t5+t6+EJEkAmDp1ampqand398cff0xRFHPIy8tr/vz5Dg4OCoUiIyOjsrKyt7d3mN9u7ty5ERERarU6IiIiLS1tz549xkOenp7h4eFarbagoECtVg/zG6GxCaMCjSplZWVSqZT5t6+v79SpU/l8/pYtW4wVmpqaNBrN3b4Mf3//jIyMgIAAX1/fsLAwtVotFos//vhjuVxOEMSSJUsIgti1axdBELNmzVqxYsW33347nG83fvz4hISEpqam7OzsmJiY5cuXFxUV3bhxgwknPz+/5cuX9/b2lpWVYVSgXwajAo0qO3fuZLMHfqsTExO9vb2dnZ2/+OILYwWlUqlUKu/2ZdA0bTAY9Ho9RVE0TVMUZTAYaJpmDt24caO8vPzatWscDqerq2v47UUajebMmTMtLS3Xrl27ceOGTCbTarXGo0KhMDg4WCaTGX8yCA0V/uqgUcW0Zamzs1OtVmu12ubmZrNqbDbbzc0tIiLC3d2dw+H09fU1NDRUVVXJZDKmAo/Hi4yM9PLycnR0ZLPZarW6ubm5urr69i1XHA4nMDAwIiJCIpGoVKq8vLyAgAAulyuVSr/66qve3l6apjkcTkNDQ0BAQGpqKgB0d3fX1taSJGlsnrLK3d09JCTE09OTz+fr9XqZTFZbW1tRUcEcVavVMpksODg4KipKo9HU1NTodDommYKDg+Pi4ry9vZ2cnNasWaNQKPR6fV5eXmtrq16vH/oPGI1RGBVozGGxWP7+/osWLUpNTXVwcCBJ0mAwNDQ05OTkHD9+vLOzEwBEItGqVav8/f2dnZ3t7Oy0Wm1ra+uJEycOHTrU2tpq9bRcLjckJOTpp5+eNm0aAHR3d1dVVbHZbBaL1dfX19LSAgAkScbFxT322GMRERECgYCm6f7+/vLy8q1bt165csVgMFieliAIT0/P9PT05ORkDw8PFoul1Wrb29tPnjzJRIWrq+ujjz46f/58Hx8fFotlMBi6uroOHTq0e/duJj/i4uJ8fHz0en1GRoZOp1OpVBUVFZ2dnRgV6M5hVKAxx8nJKS0t7ZVXXikvL//HP/7R3t4+ZcqUtWvX/uY3vyEIIjs7W6/X0zStVqt37drV3t6u1+vHjRu3ZMmSJ598ksPhfPXVV1ZP6+XltXbt2qeffvqHH344cOCATqdLSUmZPn26RCKpra0FAIIgXFxc3nnnnYCAgIMHD+bn5wPArFmzli5dOn78+LVr13Z1dVk+W3C53NWrV7/88svl5eU7d+4sKytjsVi+vr52dnZMhYULF7722mtSqfTHH38sKyvz8/NbuXLl3/72N4VCsW/fvvPnz7u5ubm6uvb29n744YfMt2hoaDBtoULINtzaCI1WM2fOPHjw4MWLF83K582bd+jQodOnT0dERBgLX3jhheLi4s8//9zT0xMACIJgs9kCgcDR0VEoFIrF4tTU1KysrMzMTIIgLL8XQRCzZ8+ur6/Pzc21t7dnCp2cnD744IOurq6tW7cCAIfDeeaZZ5qbm999913jMC0/P7/333+/r69v2bJlDg4OZqclSdLb27upqenMmTNWh9WyWKxjx45du3YtPT3dWBITE3Pjxo0LFy4EBgYCwPz5848cObJjxw43N7eh/xQRwq2N0Jg0btw4FxeX69evX79+3Vh48uTJ+vp6X1/f4OBgAODz+cnJyVu2bCksLKyrq2toaMjMzExLS3N2dhaLxZbnFAqF/v7+XC53//79xoad7u7uioqK+vp65iWLxUpISCAI4ty5c42NjUxhW1vbkSNHWCxWYmKiQCAwOy2fz580aZJYLN6/fz/ThGWKJMmAgAAvL69Lly7V1dUxhQaDobOzMy8vLzIyUiQSMWN2ERombIBCY45AIGCxWDKZzLS1p6urq7+/XyKR2NvbOzg4zJw589NPP21sbPzuu++amppUKpW/v//ChQtZLBaPx7M8J5fLdXR0NBgM7e3txtPSNK1UKo1zJgiCkEgkvb29KpXKWEer1UqlUoPB4OzsbDkUis1mu7i4kCTZ1tZmOc6VIAgnJyc7OzuZTNbf328s1+l0ra2tbDab6ZMf3k8LIQCMCjQGMaODzD7CCwQCpvtaq9W6uLjMmjVLIpG8+OKLlZWVfX19BoNh2rRp06dPFwqFVhug9Hq9Wq0mSdLBwcG0AofDMUYL04nN5/NNI4HFYgkEApIk+/v7LTsqKIrq6+ujadrqTZ85IUVRAoGAw+GYnlMoFDLdLbcfWIXQHcKHUzTmtLe39/T0+Pv7M90SjJiYGE9Pz/b29qamJi6XK5FItFptUVFRU1OTTCZTKpXu7u5BQUGDnVOpVLa2tjKJYkwCe3t7X19fLy8v5iVFUSUlJWw2OywsTCKRMIXOzs5xcXE0TZeUlFjODdRoNNevX+/r65s6daqLi4vZUZqmm5qaurq6QkNDPTw8mEKSJEUiUVxcXENDQ09Pj8FgMBgMFEWxWCx8wkC/GP7qoDGnrKysqKgoJSVl/fr1Bw4c6O3t9fPzW7FiBUmSRUVFzc3NTk5ODQ0NfD4/LS3t0qVLFEWFhYXNmTPHxcWFGUprSavV1tfXX7p0aebMmatWrbp8+TJFUZMnT542bRqXy2Xq6PX6o0ePLlu2bNGiRWq1uqCgAACmTJmSnp5eUVFx9uxZ00Ykhk6na2hoOHjwYHx8/OOPP87MhyAIwtnZmc1mnzp1qqen5+jRo2lpaWlpaQaDoa2tzcXFZe7cuQEBAV9//bVMJqNpuqenR6FQuLu7T5kyhSRJvV4vl8u1Wi0z8QKhO4FRgcac+vr6AwcOeHh4pKSk+Pj4KJVKLy8vT0/PvLy848eP9/X1AcDJkydnz56dkZExefJkjUYjkUi4XG5DQ8NtTtvY2Lht2zYXF5d169YlJCT09/czczKMs/YMBsPVq1d/+OGHhQsXLlmyZMqUKQRBMM8cX3/9dWVlpeUAVpqm+/r6vvrqKxaLNW3atMDAwPb2doPBwGKxmpqaTp06BQA//vijk5NTREQEk2Risdjf3z83N/eHH37o6elhLuzq1aupqalr1qxJSEjQaDQ7d+6sr6/X6XR348eLRiVWcnLyiRMn7vdlIDTyhEKhRCLp7Ow8dOiQabnBYGhtba2srLSzs2OaoRQKxeHDhzMzM5lJbTqdTiqVNjU1ubi4eHt7c7nc4uLi48ePt7a29vT0nDhxQqVSWX47tVrd2NjY3Nzs7Ozs4eHB4XDOnTtXUFAgl8sbGhrOnj0LABRFFRcX9/T0iEQiHx8fR0fHhoaGrKysHTt2DHbjZlqZKisraZp2c3Pz9PQUCARSqfTSpUs1NTUA0NHRUVdXp9frPT09PT099Xr9mTNnNm3aVFFRwYzF6uvrUygUzFQ+Pz8/Dw+Pixcv4hQ8dOfEYjHOq0BjF5vNdnd3j4qKsjqo6a5ydXUNDw8PDAwcwW/t4eERExMTEBAwUidEiIHzKtCYJhaLX3zxxRMnTtz72+uvfvWr7Ozsjz76iJnGMSLWr19/9uzZTz/9dKROiJAR9lWgsaunp2fLli25ubm374S4G3bv3s30Fhinzg3foUOHamtrmVYphEYYNkChMYtZvYPH41mdKnFXsdlsBwcHe3v7EfzWPB7P0dHx3jemoVHP398fnyrQ2EXTtF6vvy+9u3q9fsS3zVCr1bhzEbpLsK8CIYSQDRgVCCGEbBi1DVCurq4hISHMsv5yufzy5cvMxgNm1QiCcHNzi4mJcXNzoyiqubm5srJysL1rEELoXuLxeOHh4T4+PiKRCAB6enpqamrq6uqYmT12dnarV682Xf6LqXP16tXKykrLs/H5fH9//8jISAcHh76+voqKitra2jtsCB2dUSESiR555JG0tDQvLy+CILRaLTN51XTVTwAgCEIoFK5YsWLu3LnM8mrt7e1Hjx7Nycnp7u6+j9ePEEIAIBKJfvWrX/n5+TE3KJ1Od+3atX379l28eJGiKDs7u1WrVhn3RxEIBN7e3jKZ7I9//KNlVHA4nJCQkIyMjIkTJ7JYLGZFsszMzIKCAsvFxyyNzqiYNGnSypUr7ezsPvjgg87OzsWLF7/55pvV1dX5+fkKhcJYjcvlTpgw4e233/7hhx+ys7M5HM7atWtXrlzZ3t5uNr8XIYTuPRaLxefzf/zxx/Lycp1Ot2DBguXLlwuFwtLSUoVCoVKp1q5daxxEN2HChHXr1rm5uVlu5wUA7u7uCxcuXLx48fvvv3/69Om4uLhXX32V2Xy3urra5pWMzqiYPn26nZ1dZmbm0aNHAaCqqio1NXX+/Pnl5eWmUSESiZYvX97e3v7VV18xo9Ht7e3Xrl2bkpKCUYEQuu9aWlpefvll48u2tjZfX9/w8HBfX9/S0lKapmUyGXOIWU9MIpEUFhYalx0zFRISEhcXl5ubu2XLFgCorq4OCwuLioqaNGnSnUTFKOzWZrFY48aNU6vVxkcwg8Fw5syZgIAAoVBoWpPP50+YMOH8+fPGFT3r6+ulUmlQUJDlJjMIIXR/8Xg8Lper1WqZRS1NOTg4REZGcrnc48ePW/1aFxcXiUTCrGfMuHbtGpfLNV2K/zZGYVQ4OjoKBAK1Wm3cfYym6Y6ODpFIZFwOmsFsMSaVSo3d3UqlUqlU8vl8s1BBCKH7LiUlJTAwsLi4uLm52ezQpEmTxo8fX1dXd+nSJatfy+fz7e3tu7q6jCVyudzOzs5yR3erRmFUkCRJkiRFUQaDwVjIrNtsOTOWzWbr9Xrjwv00TdM0zZzh3l0xQgjZsnjx4sWLF1dVVWVnZ1uuQxwbGysQCIqKiowfkc0QBEEQhOkoUIqiCIK4w3vdKOyrUKlUWq2Ww+Hw+XxjoaOjY39/v9lgWYqiFAqFg4ODsbmJy+Uyz3dWV5lGCKH7IjU1dfXq1Y2NjdnZ2cxS+aa8vLyio6NlMtmlS5cG27FKp9NptVrTZwiBQMBs9HsnFzAKPztrNJrOzk4ej+ft7c2UsFis8PDwtrY2swY+rVZbW1sbFhZmbJhydXUVi8Xt7e24QAJC6EHAZrPnzZu3du3arq6unJycwsJCyy2w4uLi3NzcqqurrU6nYPT09PT09IwfP95Y4ufnp9VqTZukbmMURgVFUaWlpSRJJiUl+fv7u7m5JSQkREdHFxYWdnV1+fv7T5s2LSQkBACUSuWJEyfCwsLi4+O9vb3HjRuXmJjo5ORUUFCAm9cjhO47gUAwY8aMl156iaKovXv3lpaWEgTB5XJNW43YbPaMGTM0Gk1JSYlZ61NsbGxCQgKzK3tTU1NNTU1SUlJUVJSTk1N4ePjUqVOlUumdDH+CUdkABQDnzp0LDw9ntrrs7e2Ni4tra2s7duyYVCpNT0+fN29eQUFBZWWlUqn86aefli1btnTpUj8/PxaLFRsb29rampeXd7/fAUIIgYuLy5tvvjlt2rRNmzZ5e3tLJBIA6OzsLC0tNY6I9fb2jomJKSkpKS0tNfvy1atX83i87777TiqV1tXVnTx5Mjo6+umnny4rKxs/fryHh0dWVlZ5efmdXMnojIrKyspt27YtW7Zs3rx5fD6/qqrq7bffLi8v12q1Op2O6cwAAL1e39jY+NZbbz333HNLly41GAxnz57dvXu35U8cIYTuPQ6H4+vr29TUtGjRokWLFjGFBQUFmzZtMkZFaGhod3f3+fPnLfc+UalUNE0zA3y6u7vz8vJIkszIyEhOTm5vb9+xY8fhw4elUukdXQruV4EQQug2cMNUhBBCtmFUIIQQsgGjAiGEkA0YFQghhGzAqEAIIWQDRgVCCCEbxlxUEATh7Ozs5uZmuXQgQgg91AiCsLe39/X1HfEFTx+4KXgsFkssFjs5OdnZ2el0uu7u7p6eHstlFAGAw+GIxWKRSMRisbRarUwm6+npGWypLNPzT58+XSQS7dy50+ppEULoIUWSZFBQ0JIlSz788MM72QZ1CGcewXMNH0EQLi4u69evz87OPnbsWHZ29rPPPuvn52f5BEAQRGho6Ouvv7537978/Pzvv/9+9erVfD7f5rMCm81OTEycM2cOm/3AxSRCCA0HSZKBgYGrV6+2s7Mb2YaTB+t26ebmtnLlyjfeeOPvf//7pUuXpk+fvmTJEj6f/8knn8jlctOarq6uv/nNb4KDg7/88svS0tKZM2f+5S9/6erqOnTokOmWqAghhIbvwYoKb2/v+fPn79+/f+fOnXK5vLy83N3dPSQkJD4+/siRI6Y1k5OTvby8cnNzt23bplar29rawsLCMjIyzp8/j1GBEEIj6wGKCqbDOTg4OCsrSyqV6nQ6tVpdWlrq7e0dHBxsFhURERF9fX3Xr19nnjZaW1tPnTr11ltvOTg4EARh2mNBEASbzTY2N4lEIoFAIBaLQ0JClErlvXyDCCF0V3G5XB8fHxaL5ejoaLn/9nA8QFHB4XBEIhGPx6uvrzfe6zs7OymKYpbeNeXm5qZSqYytUlqttqGhQSQSCYVCFotlutudg4PDggULUlJSmLTgcrnR0dGOjo4bNmzAbm2E0GhCkqSnpyeXyw0LC+vs7DTb93M4HqCoYLFYHA4Hfl44lylk7uZ2dnZmlblcLkVRxns9TdNqtZogCA6HYxYVFEX19va2tLQwUSEWi5mv0mq1Zv0fCCH0UOPz+TRNM3fCkT3zAxQVBoOB2UbCdCAT84YtP/5rNBqBQGCMEIIgmJ+RRqNhFmc36u/vz8/PP3nyJPPS39+fy+UGBAR88803VVVVd/UdIYTQveTi4rJ48eLHHntMKpXanDkwJA9QVGi12p6eHrVa7e/vf+7cOaZQIpGQJGm5+2tHR0d4eLiTkxPzktkApKenR6FQmEUFTdN6vd74nNHf36/T6fr6+hoaGjAqEEKjSW9vLxMSI966/gDNq6BpWiaTVVdXJycnSyQSHo8nkUgiIyMNBkN1dTWHw3F3d/fy8mIeOMrKygQCQWhoqJOTE5/P9/T0nD59+uXLl5VK5chmKUIIoQfoqQIAmpubf/rppz//+c9Xr14tLCxMSkqaOnVqbm7uxYsX/f39n3vuOaFQ+Oqrr6pUquPHj8+dO3fu3LkKhaKsrGzGjBmzZs165ZVXsPsBIYRG3IMVFR0dHZmZmfb29uvXr3/77bc7Ojp27Nixa9eu7u5ub29vd3d3sVjMPFV0dnZ+/vnnGRkZL730klgsrqure++99/bv369Sqe73m0AIodHmwYoKmqalUuk333yze/du0zWgaJquqqp66623SJJUq9VMzYqKio8//vibb74xrgFlOnQKIYTQSHmwogIADAZDV1eXZT+2RqNpamoyLdFqtR0dHR0dHffw6hBCaCx6gLq1EUIIPZgwKhBCCNmAUYEQQsgGjAqEEEI2YFQghBCyAaMCIYSQDRgVCCGEbMCoQAghZANGBUIIIRswKhBCCNmAUYEQQsgGjAqEEEI2YFQghBCyAaMCIYSQDRgVCCGEbMCoQAghZANGBUIIIRswKhBCCNmAUYEQQsgGjAqEEEI2YFQghBCyAaMCIYSQDRgVCCGEbMCoQAghZANGBUIIIRswKhBCCNmAUYEQQsgGjAqEEEI2YFQghBCyAaMCIYSQDRgVCCGEbMCoQAghZANGBUIIIRswKhBCCNmAUYEQQsgGjAqEEEI2YFQghBCyAaMCIYSQDRgVCCGEbMCoQAghZANGBUIIIRswKhBCCNmAUYEQQsgGjAqEEEI2YFQghBCyAaMCIYSQDRgVCCGEbMCoQAghZANGBUIIIRswKhBCCNmAUYEQQsgGjAqEEEI2YFQghBCyAaMCIYSQDRgVCCGEbMCoQAghZANGBUIIIRswKhBCCNmAUYEQQsgGjAqEEEI2YFQghBCyAaMCIYSQDRgVCCGEbGDf7wu4ydfXd968eYmJicaS/v7+H3744cKFC5aVvb29k5OTo6OjuVxuY2PjiRMnCgoK7uHFIoQGxWKxvL29Z8+eHRoaymKxKIqqqak5efJkTU2NXq+3rM9ms6OioqZNm+br60uSpE6nKy0tPXr0aFdXF0VR9/76kaUHKCpcXFymTp06Y8aM//73v0xJf3+/Vqu1rOno6Pj4449PnjxZo9Go1epJkyaFhIQoFIqqqir8xULo/mKxWFFRUY8//vj8+fMDAwNJkqQo6saNG1FRUbt27bpw4YJZWrDZ7NmzZ69cuTIpKcnT05OJiurq6uDg4O3bt9fV1eEf9YPgAYoKANBqtdevX//rX//KvKRpWq1WW1aLiYlZuHBhSUnJzp07ZTJZcnLyk08+uXTp0k8++USj0dzbS0YI3WLcuHHp6enr16+XSCQkOdDELRQKfXx8AKCzs7OystK0fkRExBNPPLF48WKhUEgQBFPo5OTk5+cnl8uzsrJaW1vv8VtAlh6sqCBJUigUTpo0iaZphUJx48YNlUplWW327Nk6nS43N/f8+fMAQFFUZGTk0qVLN27caDUqSJIkCIL5LWSxWCRJShzouEDaBT+sIDTSEhLc0xJEEkMJKb3ZFUoCiClq7gR2z/xxeaxboiJ9UWDSeL1QVURoCNP6brRhVbK7odW5tBSj4k45SyDI7a7c1x6gqNDr9RqNxt3d/e9//ztFUZ2dnTk5OXl5eS0tLWZPoCEhIc3NzZ2dnczLnp6e69evP/HEEzweT6lU0jRtWpnNZnt4eHh4eDAfcNzd3V1cXCb7GT5arTP0EGCN6QkI61UQQtbx+dfs+2rJM+Z/OSRAGE2/nqB6PvKWQ47CY7ymM0STlfrTaHpCqkIzB/8I7xTBM/CCdB134cwPUFR0dXUdPHjw4MGDTU1NEolk/fr1b7/9Np/P37Ztm1KpNK3p5ORUV1dnbJvS6XQ9PT1sNlssFsvlcrOWULFYvH79+pdffpnL5QIAQRBcLteu7QDHngbqllCBn0PCtJT5JcXAQOhOESpCa6UxAABIAAEJAkezv7teYpBmYxJAyAXgmP+dokFxaeDRozwqWltb29vbAYCiKJIkr1279vXXX8fGxl6+fPnixYtmlc0eHZjGJbNChkwm+8c//vHvf/+bqePt7f3KK6+sSHJQKAjdrU8VNA30z//lsgEANHogAAhi4L8IIZvs7e0dHRyMvRSmKIrq7+/vVShMC8ViMZ/LJazVNxgMvb29KmsdlsgqFo/gq+7KreoBigqKoowNTRRFdXd319fXu7u7Ozs7m9WUy+V8Pp/H4zEv7ezsRCKRXq/v6ekxGAyWp1UqlX19fcxLDofT399/rlr08dd2VZVWooWJm7+uBAD4UyYAhgRCQzFz5uR169YlJiSQJMu0nKKoq8VXv//++wMHDpiW/2r1wtWrHw8eP54kbkkLA2XIz8//JuubK1eu3IvrHhVcXFmLl3JWPjHyZ36AosIMi8VycnIiSdJyvGxlZWViYqKrqyvzUiQShYSEVFVVqdVqqw8WNE0byymKomm6T0PUS4nKQXrLeHYwLwoA4KmvQK0bofeD0NjQe6JSPK40IHqBu7u78dmCoiipVHrkbF3WkeLGW//uvt97wSss2SUwSSwWG+sbDIbW1tYf9hXkXWzs6rrH7+Ah1kNBp2K0P1UEBASEhoZWVVX19PQ4ODjMnj07KioqNze3vr7e398/Pj5er9dnZ2cDQH5+/syZM+fMmdPZ2SmXyx955JHY2Ng9e/ZYnYTxC6xMAAF34B/fnx6RUyI0VnR0dDBToxYvXhweHs5msw0GQ3V19eHDh3NyclpaWszq19fX/+c//5HL5XPmzPHz82PmVZSUlOzevTs3N1cul9+PN4HMPUBR4e3tvWTJEq1Wy/RL+/j4FBYWHj16tLm5efLkyfPmzVOpVExUXL169dChQ5MnT37++efVarVQKCwtLd2zZ49ONzKPAMvibv4DowKhIaEoqrq6etu2bZWVlQEBAcwUvMbGxsuXLzc2Nlo2ERsMhkuXLslkssuXLzMjFXU6XW1t7blz53p6enD+3QPiAYoKqVRaUVHh6+srEAj6+vrOnj17/PjxqqoqjUbT1dV16dIlYxIoFIqdO3e2tbXFxMRwudyioqITJ05UVFSMyGX4OENKzMC/U2LAxxmaZCNyYoTGCoqi2trajMsu2KTX6ysqKkbqTxjdDQ9QVFy/fv369etWD1VWVprN8Gxubt6+ffv27dtH/DJWJJi//PTQiH8ThBB6mODKsuZWxN/uJUIIjUEYFbeI8YMpAbeUTAmAGL/7dDUIIfRgwKi4xcqfnyFokznbK/HBAiE0tj1AfRUPAqaj4h+H4PWFAABf5cELc2BFAryTeX+vC6H7jCAIHo+XkZExe/ZsFxcXAGhqavrpp5/27Nljufwzm80ODg5es2ZNfHw8m83W6/VXr17NzMy8cuWK1WGKHA4nKSkpPT09PDycJEmNRnP27NmtW7e2trZajphC9wVGxU1zIsHPBf6WA//OH4iKf+eBVAHvpMOcSMgrvd/Xh9B9QhCEWCz+61//+sgjj/j4+DALJfT19UVFRUVERGzYsME0Ldhs9syZM19++eXY2FgXFxeCIGiajoyMjIyM3Lx58759+8zSgsPhZGRkrFmzJiIiQiQSEQRBUVRERERUVNSHH35YXFyMafEgwKi4aUUC/C0HNuSAq/Bm4YacgUMYFWjMEolEy5cvT09Pd3d3Z7MHbhpcLtfBwe/iq+cAACAASURBVIHH45WUlGRnZxsDICIiYvny5XPmzHF0dDTuP+Hl5SUUCuVyeUtLC7N3gNGMGTOWLVuWmJjI5/ON9f38/EQiUU1NjUKhqK6uvldvFA0K+yoGkAQ0yQaCwcyGHGiSAYkrQaGxSiQSPfbYY25ubsacAACCIDgcjq+v78qVK+3s7IzlEyZMmDlzpmlOMJUdHBzi4uISEm4djQ4wa9as6Oho05xg6otEovnz5wcFBd21t4WGAKNiwIoE6znB2JBjPt8CobGDy+Uyu2SblRMEwefzQ0NDTdeRdXV19fT0JCxW2SQIws3NzdPT06zc19fXycnJsj5Jkr6+vmKxeITeBBoWjIoBu84PtwJCo5jlrdzIbL1x446TVk9iNUIGq8/sXznEK0V3BUYFQsgGg8HQ3d1tddlmy0Mqlaq/v9/qedRqteUhpVJpdZ9jZtfkkVoDFA0TRgVCyAalUpmbm6tSqczSgqIouVx+9OhR060nq6uri4uLLQfF6vX669evl5SUmJUXFBTU19dbDnPS6/UXL15sbGwcufeBfjmMCoSQDVKp9JNPPrl+/bppWjCf+i9fvvzZZ5+ZfvY/e/bsrl27WlpaTO/+BoOhra1t//79R44cMTt5ZmZmbm6uVCo1XURWr9c3NDR89913xcXFd/OdoTuFg2URQjYYDIaWlpannnpq/fr1c+bMcXV1pWm6qanp8OHD27dvt2yA2r9/v1wuX7t2bUJCArNfRVFR0c6dO/Py8oz7URopFIrPP/+8trZ2xYoV4eHhLBZLrVafPXv2m2++KSwsxAaoBwRGBULINqb56F//+tePP/7I5XIBQKVStbe3Nzc3m20pQdO0TCY7duxYTU2Ns7MzSZI0TXd3dzc1NVnt8KBpuqWlJTs7+8KFC0KhkCAIg8HQ1dVVX18/2L6W6N7DqEAI3RGDwVBbW1tbW2uzJtM2VVp6p9NWKYrq7Ozs7Owc3gWiuwj7KhBCCNmAUYEQQsgGjAqEEEI2YF8FQuiOkCTp7OwsFAqZlaC0Wm1vb293d7dZtzYAEATB5XKdnZ3t7e2ZlWVVKpVcLu/v77faTc2sECUWi/l8PgDQNK1UKru6unQ6HXZrPyAwKhBCtpEk6eLi8tJLL6Wmpnp4eNA03dDQkJOTs2XLFplMZnZD5/F4kyZNeuGFF2bOnMkMlr1w4cK33357+vRppVJpeXJHR8eUlJQnnngiOjqaGSybn5//2WefVVVVWZ3Ije49jAqEkA1MTuzcuXPixImOjo7Mok8eHh4hISFxcXHr1683fVzgcDiPPvrou+++GxgYyOFwmEI3N7eJEyd++umnmzdvNrv783i81157bd26dV5eXsaVazMyMuLj41977bXTp0+bTgVH9wv2VSCEbHB2dn7ppZcmTpwoEonYbDZJkiRJ2tnZSSSSxMTE559/3hgJAJCQkLBy5cqgoCAej0f+jMfj+fr6Ll68eM6cOWYnT09PX7Bggbe3N4fDMa0fEhKyZs2ayMjIe/tekXUYFQghG4RCYWpqqvF5wojFYrm6uqamppruYxEaGjplyhTT8GBwOJyoqKiYmBiz8qlTpwYHB5vueAE/78+alJTk5+c3om8F/UIYFQghG9hstoeHh1lOMOzs7Dw8PEyXCnd0dBSLxVYXG2cOmZU7OzsLBALLMxMEIZFIrB5C9x5GBULItjsfiUTT9JCGLeEYp4cCRgVCyAatVtvQ0GC5TjgAaDSahoYG0/Gy3d3dUqnU6lpPMpnMcvWOtra23t5eq/VbW1sVCsVIvAM0XBgVCCEbent7c3Jy5HK5WVrodLqWlpacnBzTQUplZWXnzp0zm0LBTK0oKioqLCw0O/np06fLy8s1Go1ZfaVSefz48bq6urvzntDQ4GBZhJAN3d3dW7ZsiYuLS0xMdHV1ZbqgNRpNS0tLbm7utm3bTDcyKioqysrKCgwMjIyMdHR0ZKbgKZXKysrKnJycM2fOmJ38yJEjgYGBTk5OgYGB9vb2AEBRVG9v75UrV3bu3FlZWXkv3ykaDEYFQsgGiqJkMtn69euff/55ZgoeANTX1+/du3fbtm0qlcq0sk6nO3LkSGNj43PPPTdjxgw7OztmP7stW7ZcvHjRcv8JjUbz5ZdfVlRUrFmzJjo6ms1mq1Sq/Pz8jRs3NjY2Wm31QvceRgVCyDaapvv7+zdu3Lhp0yZmdBNFUXq93nJjVADQ6/WlpaVvvvkmi8ViSgwGg1arHey+r9Fojh49evz4cWN9vV6v1WotlwxB9wtGBULojtA0rdFo7nClDYPBYPa0cXt6vR5nZT/IsFsbIYSQDRgVCCGEbMAGKITGKDabHRERMWHCBFdXV4IgVCpVdXX12bNnVSqV1WlxHA4nISEhNDTU0dGR2S67rKysqKjIsruCJEk3N7eEhAR/f3+SJCmKampqKiwsxG7qhxdGBUJjEZvNnjlz5vLly2fOnOnp6UkQRH9/f3Fxsbe39/79+83WFWdWZHr00UdXrlw5ZcoUsVhM07RUKj137lxWVtaRI0dMuxlIkgwODk5LS0tLSwsPD2exWAaDobq6+vDhwzk5OSUlJZgWDyOMCoTGouDg4JdffnnOnDnM1AcAcHZ2dnd3j4yMlMvlx44dM50mzeVyJ02a9O677wYFBXE4HGN9Hx+fwMDAxsbG0tJSYwC4ubmlpaX97ne/c3NzMy4b5ezszKw1+8UXXzQ2Nt7zt4uGC/sqEBqL1qxZExsba8wJhp2dnY+Pz9q1a319fU0rOzs7v/DCC4GBgVwu11ifIAiBQBAZGfncc8+ZLUKelpZmmhMAQJKkRCKZN2/e7Nmz7/I7Q3cFRgVCY1F8fLyLi4vl+q8sFishIcHZ2dm00N7efubMmZbrijOLxc6YMcM4HwIA/P39w8PDLZehJUkyMDAwLCxs5N4EuncwKhAai9hstmVOGA+Z3egJgjDdkcLskNlWEyRJmiaHKRaLNdgh9IDDqEBoLNLr9YOt/m0wGMwO0TR9m75os0MURQ1WmaIonID9kMKoQGgsunr1qtkwJ4bBYLhy5Up3d7dpoUqlunDhguXyTTRNKxSKCxcumGZDU1NTdXW1ZSRQFHXjxo3q6uqRexPo3sGoQGgsyszMvHr1qlKpNE0LvV7f2tq6Y8eOpqYm08pyufzbb79tbGw0XSqcWVe8srJyy5YtpilSWFh4+PDhrq4u07SgKEoulx8/fvzkyZN3+Z2huwIHyyI0Fl25cmXz5s1yuTwuLs7NzY2ZgldRUbF///68vDyzp4r+/v7Tp09/+umnixcvjoqKYqbgyeXyoqKinJycixcvmj5VNDY25uTk8Hi8efPmBQYGslgsiqIaGhpOnDjx448/1tbW3vP3ikYARgVCY5FOp9u3b19LS0tCQoJxCl5JScmRI0f6+vos+yqUSuXmzZvr6+tjYmKMU/AKCwvPnDlj1jBlMBhKSkq++OKL69evh4WFMVPwampqTp48WVtbi2sCPqQwKhAao3Q63fnz58+fP3+H9TUazcGDBw8ePGizpsFgaGxs3Lp16/AuED1AsK8CIYSQDRgVCCGEbMCoQAghZANGBUIIIRuwWxuhUYLZfyI1NdW49PfVq1f37t1bX19vdfo0h8OZMWPGrFmzfH19CYJQKpUFBQWZmZkKhcLqRG4ej5eenj516lRnZ2eaptva2k6fPn3kyJE73EIVPdQwKhAaDdhs9uzZs5944onExER3d3dmQ6H4+PiwsLD//Oc/ly5dMhulyuFwMjIyli1bFh0d7eTkRBCERqOJj48PCQn5/PPPW1paTCfQMcsCvvbaawsWLAgODhYIBADQ29s7efLkwMDAL7/8EtNi1MOoQGg0iIqKWrly5eLFi4VCoXEdwJCQEDc3N7lcLpPJKioqTOsnJSWtWbMmMTGRz+cz9e3t7UUikbe3d21tbXZ2dmdnp7Gyg4NDSkrKunXrvL29jYsD2tvbOzs7Ozk5VVRUHD16FCdMjG7YV4HQaDBt2rSkpCTTnAAAkiTFYvGcOXMmTpxoVj89PT0iIsKYEwwWi+Xq6rpixQpvb2/TymKx+IknnvDy8jJdRJYgCC6XGxgYuGbNGrPFZdHog1GB0Gjg6+vLTLo2KydJ0s/Pz8PDw6w8PDxcJBJZrR8eHi4UCk0L+Xx+dHS05TrkBEHY29tHR0fj0uKjHkYFQqMBSZKWuwnd5hBJkoPtV8FisaxueTTYtx5sKws0mmBUIDQa6HQ6nU432CHLjgSNRjPY1hEajcZsxBRN02q12mrl2xxCowlGBUKjQWlpqdVdIpjF+2pqaszKz54929HRYTkoVq/Xnzlzpqury7RQqVTm5+ebrkDOoGm6p6cnLy8P+7RHPYwKhEaDo0ePHjx4sKOjwzQtDAZDa2vr7t27z507Z1Z/69at58+f7+7uNtanaVqn09XX13/zzTf19fWmlbu6uj777LPKykq1Wm26X4VSqbxy5crGjRstdz1Coww2MiI0GnR1dW3fvl0ulzNDm9hstl6vv3Llyo8//pibm9vT02NWv7W19cMPP6ypqZk/f76vry9JkgqF4uLFi999911hYaFZm5JOp6uqqnrttdfWrFmTlJQkkUiYMxw/fnznzp2NjY24Deqoh1GB0GhAUVRdXV1WVta1a9eYKXjMI0VZWZlcLrfaMFVcXKxQKE6dOiUWi5kpeE1NTcXFxVqt1rKhSaPRnD59Wi6X79u3TyAQMFul1tfXV1ZW3mbbbTRqYFQgNEpQFNXa2tra2nqH9Q0GQ3V19Z1vdq3X669evXr16tVfeoHoIYZ9FQghhGzAp4oRwGaBrwR0BmiSgbVl1hBC6OGGUTFcsYGQ+Qp4iAEAgl+HZtn9vqAHQLgXzImC6y2QW2Kj5mOJ4CqE/xbCja7bVSMIWDABZkeCxBE6e2F/EZyuuF39O+QrgbQpVsp1BtiUd7svJAlYPBlmhIFYAM0yyC6Aqw0jcD0IPbAwKobrT0vBQwyfHILTFSBTjthpl8WBkA9bTo7YCe8NkoDfLID3VgCXDdtO24iKhTGw5QUAgMrW20WFAw+yXoVHwoGioVkGHmJ4NQW+PgavDHvn5skB8H+/slLep7ldVDjyYO/vYOp46NNAlxK8xPDmo/BeNnywb7jXYxVBEBwOh81mMzOoKYq6zWw7FovF4XCMM6sNBoNWq71Nt7OdnZ2dnR0zl5umab1eb9mnfZsr0ev1Op1usPpoNMGoGK7xHmCg4E+ZYBjR4YIvzwep4iGLCl8JfPs8TB0PB6/Ao5NsVHayhy/WgVoHPFsLzX24Gh4Jh/8WwnOboacfXIWw7dfw7CworIWtp4Z1wSI+AMCfMiHzwi3l1G1vff+3BqaOh38ehnd3g1oHnmLIfBXeXQ4XquF4+bCuxxKz3t+rr746d+5csVhM03RFRcWuXbv27t1rOUeaw+HEx8evW7cuPj6exWLp9fpTp05t2rSprKzM6hQ5Ho+3ZMmSVatWhYaGEgTR3d2dm5v7z3/+03SyhRFBEAKB4IUXXkhNTfXw8KBpuqGhYe/evd9//71KpRrht40ePBgVv5yAA4584NuBRg8ujgAAnb037zL+rhDgClo9lDWDvM/Kl/M5EOwObkJQaqCkEfo0N08rtodJ/nDyOriLQKOH7j7gc0DIB6X6ZjXmDKaFEkcgAKQKcHaACeOgtAmkioGaJAGRPuAugh4VFDeA5u5Mrf1VEvi7wMIPQK2zHRX/XAsOPNhyEl6Yc7tqDjzImA4yJTzzNSjUAACdvfDM11D6Ifw2ddhRYQ8AUNcJDdI7/RJXIWQkwbVGeOvHgX6p1m549mu4/L/w29QRjgoWixUUFPTJJ59MnjxZLBYzzwrjxo0LCQmJiorasGGDaVpwOJzHH3/817/+dUhIiIODAwDQNO3l5RUVFfXhhx/+9NNPZg8iPB7vj3/849KlS319fXk8HgAYDIaAgIDY2Njf/va3NTU1ps8iJEk6OTlt3LgxMTHR1dWVWUfWz89v/PjxMTExb7zxhunUPDQqYVT8cs/Ngb8/NvDv+n8C/NxXEeUDX62HKQEDhygadp6DV78DpcmnwN8vht8uBLFg4GWfBv53L/zjIADA08kDrSLzJ0D9P+FYGaR+CI9PhS/WwZ8y4aMDN0+yIh7+/czNwmN/BLEA0j6Gn94CRx78+j/wnxMAAEvj4KNfgZfTwFcp1fD+PvjY5Dxm/F0hxHwd0ps6FVBUb/3QyevwVR5090F80KBfzlgaBysT4JWtIBLYqBnmBXYsuFAzkBOMxi44UwnJ4eDnMoS7vCXmqaKnfwhfMicSWCTkFNwyfqG8BSpaITkc+BxQjdy0ZW9v74yMjOnTpzs4OBjX+2Oz2ePHj09JSSkrK9uxY4exclJSUnp6enR0NI/HMy725+zsPGXKlBUrVnR0dFy6dMn05EuXLl24cOH48eM5HA5TYmdn5+7uPn369DVr1mzevPnGjRvGymKx+Kmnnpo1a5ZEIjG2btnZ2fn7+8+bNy8jI2Pr1q04YXt0Yw+2uqRVv/3tb93c3CzLaZpWqVStra1FRUUVFRVK5ci12T/Asi7A5Tr44SWw58GSjwEApL3g4wxH3wI7Nry+DX66Bg48eCYZnpkFzg6w9B8DX7g+Gd5bDuer4c9Z0CyDIHf4cDVsWAW1HZBTAHsKQN4H3zwL56rg3d3Qbe2JxCqtHngc+OtKOF4GpyqgsA4AYNFE2P5raJDCqs/gagP4usB7y+FvK4Gi4JND1s+zIh7+unLQ73L0GqR9bP3Q2co7uk43IXy+FvJL4etj8MYiG5WZ5imlxXp0TEKEew0vKgQAAN39wCJhnASEPKiXQu9tW1OifAAASprMy0ubINQTgt3hWuMvvx4z7u7uKSkpjo6Opn+kTIdBQEDA/PnzTaMiNjZ20qRJpjkBP7caJSYmHj9+3Cwq5s+fHxAQYMwJBkmSjo6OKSkp+/fvN40KoVCYnp7u5ORktr6snZ2dp6fnkiVLtm/fjlExug3tqWLChAkJCQlisVilUnV1den1ekdHRw8PD4VC0dzcrNfrZ8yYsW/fvtzc3O7u7rt0xQ+OJhk0yUCjBx4FJ68PFL61BMT28MLmm20jv9kKvi6QEg2JwXC+GgAgxANKm+DFb+F6CwBAbQe8QcH+N+GxRMgpgGYZFNQCAEgVN097J3QGcOCCTAlPfnWz8H8fBwMFSz6GyjYAgBtdsPQTKPkA/pAGX+VZ/wi84xycrRr0u9x5dA3mX0+BHRte+PaOKjMjykK9zMs9RAAArkLz8iFhniqemgn7fgdiewAAAwUHiuCV76DdfCGMAZ5OAAAdFkeZ+p7ikYwKPp/v4+Nj+WGOCQCz3YdcXFyYfU8tK7u6ujo5OZmV+/j4MPueWtb38fHh8/mmhRwOx8/Pz+o65Fwu19/ff7D1z9GoMbSoKCoqGj9+fGNj47Vr1xobG3U6nUQiiYiImDx5cmVlZX9//5QpU5YuXdrR0XHy5EPVITtyFk0EvQF23Lo4285zMH8CpMQMRMUfdpp/VVkzAICneFjfmqaBIODbEzdLQj0hxANOVwzkBKNXBQeuwFMzYep4yC+1cp5m2V0c8rsmCRZPhhc2Q+NtR8ca1XVCRStEj4NFE+HAlYHCqeNhbhQA2O4Svz3mqWLJFPj6GJQ0gcQB1iRB2hQI94Zp71p5lAEAAQcAQG0x/kijAwAQcId1PXeOIIg7bw8YUmWm/h0W2jyERo2hRYVGo2loaMjOzj58+HB/fz8AsNlsLy+vjz/+WCqVfv/993PmzFm0aNHUqVPHZlQI+eAuAoUaNqy6pZz5CGzaARDqCemxEO4NYgFw2AM3IHIk/uJq2m/+e7wHAICLo/mQ0FDPgeuxGhV3j7czfLQGDhcPrTv6Dztg92uw4zew9SSUN0OYN2QkQW4JLIiG/kHaPNKmgMTh5su8EuuDcT89DDvOwZkK6OgdKNmUB/vegNmR8Ows6w10egMAAMviMzSbdfPoSNFqtZ2dnR4eHpb3YrVabbr3NQD09PQoFAqzDVMBgKbp7u5uhUJx6wlAKpWq1WqmQ9usfmdnp0ajMS3U6/VtbW0eHh6WTw86na6trQ37tEe9oUXFkiVLTp8+XVRUxOQEAOj1+tbW1h9++OGNN944cODAuXPn4uLivLws2gvGBj4HAIDLhvnR5ocq26D75+7Tl+fDB6tBo4OT16GxC1RaYLMgIXhkrqHbpJOWuR4PsfXr0Q4yDsqOBdzBP63rDVY+U9+hL9eBTg8vbB7aVx0phmWfwF9XwjOzgKahqB4e+xwSgmBB9M0hXmb+mA7R426+XPWZ9aiw7FyhaPjHQZgdCckR1qOC+fFa9sYbuz1GUEdHR15eXnBwsNkO2DqdrrGx8dixY6aVr1y5UlJS4urqyuXefLRhlvkrKCi4ft28KTM/Pz8yMtLe3t50W2ym0zEvL88sh3p7ew8ePBgUFCQSiUzTQq/Xd3R0HDhwAPerGPWGFhXu7u4sFsvqDlkSiYTL5ba3t6tUqjG7JzvTZCHvg5j/GbSOtzP8/THoUsCM/3ezS9ZDDC/OHfK3u80NnaFQAQAcvQZrvxzCaV9N+YXd2rc3LQTmTYD6Tvj6mZuF/q4AAO8uh5fnw4a9cGGQlet+ugY/XQOeHVD0QMI9/QgAQHmz9fovfgsOJm1BpYNUs6q1GwBAyLd+tLodACDA1bycKalqMy8fjoaGhs2bN8+YMSMsLMyYFszd+cSJE9u2bTOtnJeX5+/vHxQUNG7cOGNntUajqa2tzcrKunjxotnJt23bFhMT4+zs7Orqyux4yuREeXn55s2bGxpumX0uk8k2btw4Y8aMiRMnOjo6MmlhMBhkMtmFCxc2bdqEfdqj3tCior29PT4+/vTp06ajI+zs7JYvX67RaNRqNdNRZnzmGGv6NHCjC8Y5g0gw6BDM2ABgs2BPwS1Ddyb72zgz07Jhlg2BVgaj3aK8BQBuN/LVqpPX4U+Zgx6t6xz00O31aeBYGcDPbTUMps2NRQKbBbdpfrNjgc7kaUbAgVmRUNU26Bzvy3W2r4fLhnkTgEXC3sJbyoPcAWDQ3hqmw396KGw+frPQgQdTAqC6fdDO8F/GYDBUVFQsX778tddemzt3rpOTE0VRzBS83bt3m03B02g03333XW1t7bp16xISEthstk6nO3ny5KZNm4qKiixv5Wq1+k9/+tOVK1eYKXgkScrl8tzc3E8//bSlpcXs4yBFUVKplJm3wUzBA4D6+vqcnJytW7f29/djA9SoN7SoyM7Ofumll957771jx46VlpZqtVpPT8/k5OTZs2dv2bKlubl50qRJHA6nuXkon+JGl/8Wwsvz4YU5tyzzkDEd0ibDnzKhonXgycPe5DOvgAPvpAMAcH7+v8HM4zMNhs5eAIBwk4Y9Rx6sSbJxMQ1SKL4BMX4wdTycMxnU9NEasOfC69usj4C6WAMXzbfXHAFXGyD1Q/PCNxbBX1fCnzLhp2sDJS6OEOENUsVAVz8A7P0dzAiFqD9Ai3yg5M1HQcSHv+0Z1vVoDfBxBng7wbS/QPHPw5bsWAPjd/cXWb+eglqobIMlUyDQDWo7Bur8eh7wOfD96WFdj1V6vb65ufmDDz7YuHEjMwBJo9F0d3f39vZa3p37+vpOnTpVUlLCPILQNN3X1yeTycw6HhhMH0ZmZubRo0eZNiuDwaBUKqVSqdWFQJi0+Ne//rV161am2UCr1fb29nZ3d2NOjAVDi4r9+/c7ODgsWbJk9erVWq2WoigOh0MQxM6dO7dt29ba2koQRFtbm1lD55jy4X5YEQ/vpAOHDYeuAocN86Lgd4vghnTgMaKgDrr7YHk8nK2EKzcgxAPeWAS7LoCPM4R6wYwwKG2Ctm4wUDBtPDwxHfo0kH0JzlVBnwaWTIE3FsGFGvBxht+lwvkqSJsCtx9+8vsdsP8N2PkbeHc3FNWDiyOsnQErE2DH2ZGcLMb48zJw5AH83I0fG3izO/39fdA1SL+CmRlh8MNLkFMAq/81UPLjOZg/AY78D3xyEKRKSJ0IT86AC9Xw7/xhXS1Nw58z4T/Pw+H/gS9zobQJPETw5CMQPQ6Ol99c6sPsemgafrcNcl6Ho2/BJ4egWQ4zQuH5OVDWDBt/Gtb1DMZgMLS3t7e3t9usyWRDX9+dDmdmdsa23CBvMExaSKXDmMmCHlpDboDKzs4uLy8PDg5mmjh7e3tv3Lhx7dq1mpoajUbT2NjY3Nw8lnfF6uyFWRvgozXw+0fh7SUAAFo9/LcQXt820H7S0w9PbYJN62HjOgCAHhV8chD+bz9o9bBhFfz0P/DKVvj6GHx0AP6wGP79DLR2Q/Yl6FHBmo3wxbqBXgSlGj7YBxdqIG3KzWcRq06Uw+KP4P3H4Yt1AyXyPvjoALyXPfLvfX0yuJlMdAjzgrCfH4O+yrvTqLD0w1lwsof/SRv4iWn08N0p+P2OQbvl79yP50Gjh3fSB/5PAUB3P3xyCP5f9u1W9MotgVWfwf/9aiAIDRTsuwyvfnfLmisIjTbvvvvuL/gqgUDg7u7u5eUlFg9vLsA95+vr+9VXX+3bty8yMnKwOq5CUG0B1ZZbGnyGypEHEd4Q7D4wDMkMSQysn2F6oxdwwMFk7KLYHjzEtzw0EAT4OEOYl/Vz3p6rECaMA1/JLV0FDxE2C/xcIML7lh/RSBEJINIHgtytjIK9DV8JRPrYXpsEoXvG3d399ddfr66ujo6Otjpl8pfx9/cf8hpQLBZLIpE4OTnxeDyzQdbV1dWWw7fHLIX6Zmu7JYqGeotWOrNZApbzomkamn7p5LjO3oEOj4eU3jCsNTxur6d/aCtBMW6/x8aIIAiCy+VOmDCBGdfEdDDU1NTU1dVZPruTJOnu7h4WFubm5kaSJEVRLS0tg+2tDQAsFisgICAoKIjZW1ur1TKzazUaDXY/IDNDiwoHB4fo6OgpU6YEBgYKhUKz1Proo49K6VS/QAAAIABJREFUSmztZYMQujMEQTg6OiYlJT355JPx8fEODg7M0t8//fTT7t27i4uLzRZ/DQgISE1NXbp0aUREBLMI+ZUrV3bt2nX06NGWlhaztGCxWNHR0cuXL1+wYIGvry9BEAqF4tKlS1u3bj1z5oxCocC0QKaGFhVxcXF//OMfg4ODVSqV2aQbmqaFwuGtyIMQMsHj8aZMmfL555/7+fkxUx8AwMXFJTg4OCgo6M0332xqurlsoUQiWbNmzYsvvsg8UjCF8+bNi4qK4vP5O3bskMvlpif39PT8/e9/n5KSIhKJmBkbLi4u48aNi42NffbZZ8+fP4+7UCBTQ4uKZ5991sHB4aOPPsrOzm5vbx/L3dcI3W3+/v7PPvusv7+/6eM7s9lRQkLCk08+uWHDBmP5vHnzUlNTTXMCAFgslqen57Jly+rr6w8ePGh68ieffDIxMdGYEwBAEISdnZ2fn98zzzzT1tZWXj7S+zShh9nQoiIgIODQoUMHDx5sa2uz2vqJEBopEolk2rRplp2TBEG4ublNnTrVtDAyMjI4ONhyjSYWixUVFRUYGGhWPm3aNDc3N8vVpdhs9rRp0yQSyUi8AzR6DG3pYKVS2d/fr9frMScQuttYLJbpgk5mh8xW+mN2ybZa2eohLpc72MrhPB5vBAfPoNFhaFFx9OhRf3//cePG2a6KEBoemqYH+0xmeYiiqNtUtuyjpihqsI7r2xxCY9bQGqDa2tpmzJjx9NNPR0VFNTc3my4YQNN0UVFRV9fdHz+I0NjQ29tbXl5uufQ3M8varC/hxo0bra2tpn0PDIqiGhoaWltbzU5eXl4+YcIEs13zmPplZWW9vQ/zwGp0FwwtKpKSkiIjI+Pj4+Pj4zs6OkzXIKNp+p133sGoQGiktLS0ZGVlRUVFubi4GFuEaJru7+8vLS3ds+eWNbDOnj07ceJELy8v0y0rKIrq7u7Ozc29cuWK2clzcnKioqIcHR0FAoGxvsFgkEqlWVlZY3kZN2TV0KKip6fn/PnzVg/RNI1r1iM0gqRS6f79+wMCAubOnevn58f0W8hksuLi4j179pw9e9a0cklJSVZWFp/PT0hIYB5EKIpqamo6ffr0nj17amrMF4A8c+bM9u3b+/v7o6OjnZ2d4eeNy3Jzcw8cOICf+ZCZoUXF+++/bxzfbWks7KeN0D1DUVRzc/OGDRsqKipiY2MdHR0pimpsbMzPzz99+rTZuuJ6vT4/P7+trW3hwoXh4eFsNluv11+9evW///1vfX295bh2rVa7bdu2+vr62bNnjxs3jiRJhUJRUFCQlZWF8++QpaFFhUwmAwA2m83lcrlcLkEQer1epVLhxiYI3Q00Tff29n777bfffvutzcp6vb64uLi4uPgOT67VavPz8/Pzh7dCLxobhrwGFIfD8fLyio6ODgkJ4XA4bW1tly5dqqmpUalU+EkEIYRGpSFHxdq1a5955hlmkRn4uZNt+/bt77///p0sqY8QQuihM7SoSEtLe+qppzQazUcffVRUVKTRaMaNGzdv3rxVq1a1tLRs3769paXlLl0oQgih++WOooLFYonFYplM9uijj3Z1dWVlZR07dqy7u9tgMAgEgsLCQoqiZs+enZ+fj1GBEEKjj+2ocHBwmDx5cnp6+ttvvx0WFnbmzJkLFy4Yl7RUqVS9vb0HDx78wx/+gCvLImQTh8NJSkqKjY11cXEBgJ6enitXruTl5VndAZsgCHt7+wULFkRFRQkEApqm29razp8/X1hYqNPpzCqz2eygoKCZM2cGBQWRJGkwGCoqKvLz88f4xpRoRNiICi8vr+Tk5OTkZGb2pp2dnVqttvwdVSgULBZrsCVlEEIMDofz+OOPp6enT5o0ycnJCQAUCkVJSYm/v/93333X19dnOjaEJEk3N7eMjIzFixeHhobyeDyapjs7O2NjY7Ozs/ft22f6l8hmsxMSElatWpWcnOzr68vMq6ipqQkNDd25c2dJSQmmBRoOG1ERFhaWlpbW2tr69ddfa7Xapqam0NDQkJCQ9vb2/v5+AGCxWK6uro888ohMJmNKEEJWsVis+Pj4X//619HR0cYVNYRCoaura1BQUG1t7alTp/r6bu59KBaL58yZ89prr3l4eBhna4tEIg8PDycnp8bGxkuXLhkrBwUFrVq1KiMjw8nJyTj7etKkSb6+vmq1uqenp76+/t69VTTq2IgKkiTr6uo2btzItDjl5eWtW7du+fLl9vb2LS0tBoPB0dFxwoQJS5Ys2bt3b0dHxz25ZoQeShwOZ926dSEhIaYrLzFboo4bN27dunUlJSWmUeHj47N69WpPT0/T53WCIBwcHGJiYlasWGEaFTNnzkxOTjbNCQAgSVIikaSkpFy7dg2jAg2Hjag4e/bs5cuXmZl3AJCZmRkeHp6SkjJ79uyuri6tVuvk5OTs7FxVVbV9+/bGxsa7f8EIPayYpwoHBwfLXSI4HE5CQgKfzzctFIvFEydOtGzXJQjC2dl54sSJpoVBQUHMvqdmlUmSDA4OxtWg0TDZiIr+/n7TZqWurq533nnn1KlTCxcuZKbg1dTUfP/991u3bu3s7MTGUIRu7zb7QLDZbLMbPUEQg9UnCMJsiR2SJAfrLMR+RDR8Q56Cp1Qq9+7de+DAAZIkCYKgKMpgMGi1WpyqjZBNer1+sL8Uy0M0TQ/28ctydU6DwTDYfhW3OYTQHRryZw2apnU6nUql6uvrYzbF02g0mBMI2WQwGE6dOmW5GB9N0xqN5sT/b+/Oo6I408Xxv1W900A3+74ICAqIKIooccO44a6Y6OCSTHInySRjTGYm93tnbib+Zu6cmZvMvZNrNNFMNhMwLsgirojEKCCyKJsg+9rN1nRDd9N7Vf3+qKTTqW5sSFRAn885c85Q9dhU5TT99Fvv+z7Pt99aTlQghORy+a1bt6yzBb0O6tatW5YHGxoaWlparFMCSZL19fVtbW0P7j7Ak8j+qCI8PPyFF16wG0ZR1GeffdbY2PggrgqAx5DBYDh69Gh0dHRcXJy5SwSdJ1pbW48ePWqeFKR1dHQcO3YsLi7O19fX3PGULiBYXl5+/Phxy+CCgoKIiIjAwEA3Nzfz4yaSJPv6+s6ePVtaWvpIbhE8tuynCpFINH/+fPOPLi4uIpGIIIihoSGTyeTk5CQSiVQq1cDAQEZGxsO8VACmNoIg6urq3n333ZSUlISEBA8PDwzDhoaG6NLfdKUcy3i1Wl1UVPTOO+9s3749JiZGKBRSFCWVSq9fv56Zmdnc3GwZLJFITpw4odPp1qxZExYWxmKxTCZTfX19bm7u2bNnYXUi+JnspwqJRHLs2DH6/wcGBq5fv76hoeH27dsSicRkMonF4pkzZy5btqy6uhr6VQBwfyaTKS8vr7+//9q1a/QWPLVafe/evdLSUutK/hRFyeXy06dPSySSsLAwgUBAP3qqqampq6uznquora0dHh6uqamh+0+QJNnW1lZaWtrf3w9zFeBnsp8qpFKpOVX86le/unfv3uXLly9evKhQKBBCXC43LCzMwcEB2qEAMBZGo7GsrMxyS8R90JWb8/Pz8/Pz7QYTBNHe3g77J8DDML5p7Q0bNjQ3N9+6dYvOEwghg8HQ1NR05syZJUuW+Pj4PIQrBAAAMMHGlyo8PT3pMmSM43q93s3Nje79CwAA4DEzvlQhk8lmz54dGhrK4/HYbDaLxeJwOE5OTmvWrNHpdDZLYwIAAJjqxrcFLycn5/XXXz9w4EBubm5FRYVOpwsKClq/fv369es/++wzaFYBAACPpfGlilOnTgmFwmeeeWbfvn0Gg4EkSQ6Hw2KxTpw4cfToUagBBYBdfD5/y5Ytq1at8vf3RwjJZLKCgoK0tDSdTme9MATHcWdn51/+8pdPPfWUs7MzSZKtra3nz5/Py8uzHsRzOJzY2Njt27fPnj2bzWabTKbS0tL09PTm5mbGcikAxmt8qWJoaOjEiRPl5eURERF+fn5sNluhUDQ2NjY2Nra3t1v3sQAAWOLz+X/84x/Xrl07bdo0BwcHhJBOp4uKipo9e/bbb789NDTE6FcRFBT0pz/9KTEx0dvbm8PhUBQVGxsbHR0dHh5+6NAhy2zB4XA2bNjw4osvzp49m64vS1HUjBkzoqKiDh06dP36dcgW4OcYdw2onp6e/v7+2tpaZ2dnHMe1Wq1cLrdeEg4AYOBwOJs2bdqyZcv06dO5XC59kM/nC4VCV1fXysrK06dPDw8Pm+O9vb1TUlI2btwoFovNG7D5fL6joyNCqKGh4dy5c+bguLi4rVu3Ll68WCgUmssOBgQEiEQiqVQqk8mqq6sf0X2Cx9FPqTdJEIRCoejo6Ghra+vt7YU8AcBYcDicZ555JjAw0JwnzMc9PDyeeeYZsVhsedzHx2fjxo0uLi6MfhV8Pn/69Onr1q2zDE5ISIiPj7fME3Sws7PzkiVLZs2a9XDuCTwpoDQxAI8IjuN031PrU2w2OyIigrHcXCgUhoSEWLegwDDMyckpNDTU8qC3tzddKcQ62NfX18PD40HcAXhyQaoA4NGx/ig3s9nCaLQ+E9anMAwb7cXvcwqAMYJUAcAjQlHU0NCQzRYUNk8ZjUalUmmzXg59yvKIRqPR6XQ2f69Go9FqtT/jwgGAVAHAo2IymfLz8xUKBaN4H0VRWq32ypUrarXa8rhMJrtx44bRaGRkC4Igenp6bty4YXmwtra2oaHBepmT0WisqqpilKEFYLwgVQDwiBgMhv/7v/+7c+eOWq02f/rTeaK+vv7999+XyWSW8W1tbUeOHGltbbXMFiRJDg0NFRcXf/7555bBly9fzs3N7evrsxyaEAQhkUhOnz5dXFz8kG8OPObGvVgWITRt2rS5c+eGhIRwOJz+/v7bt29XVVVBY20A7o9+yvTGG2+kpqauWbPG398fw7CBgYGrV69++umnUqmU8UdkMpnu3r27e/ful156afHixc7OzhRFtbS0nD179syZM4wHUCMjI2lpaT09PTt27JgzZw7dr+LWrVvHjh0rLi6GB1DgZxpfqmCxWKmpqRs3bgwPDxcKhQgho9Eok8muXbt26NChvr4+qEMOwH2QJNnS0vLpp5+eO3dOIBAghPR6/cDAQEdHh83GqDqdrqqq6r333vv888/ZbDZCSK1W9/T09PX1WT/F6u/vv3jxYk1NjVgspvvey+Xyzs5Oy0EMAD+N/VTBZrN9fHzWrFlz7NixJUuW7Ny5k8vl5uXl0eNid3f3uXPnbt++vbu7OzMzE5ptAXB/BEF0dnZ2dnaOJZhuZU8XRLAbTOcGRtdVAB4IO6lCLBbPmTMnKSnJ0dERx/GNGzfiOJ6dnX3+/Pnu7m6CIEQi0ezZs3/7298mJyfTLeMpihoeHobnUQAA8NiwkyqioqJ2797NZrO//vprk8kUExNTVlZ25cqV1tZWOkAulxcVFU2bNm3//v0uLi50ffJvv/22u7v74V88AACAR8HOCig/P7+IiIjq6uqysjKCIAQCwfDwMGOKjCTJ3t5eDofDZrMXL1789NNPe3l5PcxrBgAA8EjZGVXU19cXFxevWLGip6fn1KlTfX19QUFBAQEBvb29dFVLHMfFYvG8efOGh4dHRkbu3LlDN39/JBcPwMTDMMzR0VEsFtPT1BRFqdXqwcFB6/0QNPpPxtnZma4EZTKZlEqlXC5nTFObsVgsd3d3R0dHFouFENLr9cPDw8PDwzBTDR4lO6mipqbmz3/+c2Ji4r59+7KzswsLC/fs2aPX63U6XUNDA0VRzs7Oq1ateumlly5duiSTyYqKih7NdQMwSdBdIHfv3h0TE8NisXQ6XUFBwcGDB5uamqxbSmAY5uLi8txzz23evDkoKAjDsN7e3gsXLhw+fFgmk1lnCzab7evr+8Ybbzz99NNisZiiqIaGhpMnT545c4ZRsRyAh+vAgQP3D8AwjM1mOzo6Yhjm5uZGd7sbGBhoamqqqamRSCTDw8M1NTXx8fGMepmTU2Bg4JEjR3Jzc6OiokaL8XBG2i+Q9gs00/dRXhqYevh8/p/+9Ke2tja9Xk98T6PRVFZWLlu2jF7eaoZhmFAoPHHiRF9fn8FgoIONRqNcLi8oKKAb11vGs1isqKiosrIytVptMpnoeL1e393dfejQIXoQA4AlLy+vN998s7m5mf7i8qBeNjg42P5ubYqiTCYTvTRboVAcOHDg3//93zMzM1taWvr6+oqKiv7+97/v3LmzpqZmSrc2Sho1cYw1ADyBNm/evHr1aj8/Py6Xi3+Pz+eHh4enpqYyvo5wudyXX345ISHBzc2Nw+HQwWw2WyQSxcbG/vrXv3Z1dbWMDwoKevHFF6OiohwcHFgsFh3P5XI9PT2XLFmya9euR3uv4Ik2pi14bDZbLBYrFAqCILq6us6fP19SUiIUCnEc1+v1CoWCUU5gKiq4i469jPYesX32PqfAk2zhwoVhYWEcDsfyIN1SIjExMTc3t6qqynyczWYnJyd7eHgwvu7hOO7k5JScnHzs2DHL2h6enp5JSUl8Pp9RF5bD4QQEBCxfvvxf//rXw7ktAJjGVAPKx8fn3XffDQ0NpVs2yuXypqamysrK27dv371717ogwRTVJUeHn7dx/PDzqAt2NQFbXF1d6b6nDPTTWsYpDMPovqfW8TiOW5/icrk2W1AghPh8PrSgAI+S/VFFUFDQK6+8smPHDqVS2dXVdZ+nTDk5OR0dHQ/08h6prDJU+A7S6NG7P7ShRO/9Av1yKXrq/5u4ywKT2HgnlmEiGkxR9lOFt7f36tWr2Wx2UlKSWq12cXFxcnLS6XT0lmy6LbBWq+3v7y8pKZnSqaKiDVV2oNdWIfb3Y63X16C9S1BlB6qA1b/Alt7eXqVSyWhTihCiKKqnp0elUlkeJEmyo6MjKCjIemBBEERHRwej97BWq+3u7vb29rZ+8ZGREdjlCh4l+6mir68vPz8/IiLi+vXrOp0uMTFRqVQ2NDTQ72wPD4+oqKjAwMCqqirLDvJTVGYZig1CLz/93Y97l3x3EACbCgsL586d6+rqyuPxzB/o9NaKa9euMTYYmUymnJyc6dOnBwcHW2YLk8kkl8uzsrIYxWL7+vouXboUERFBl9Uxv7jBYGhra8vLy3vINwfAD+ynio6Oji+//PJXv/rViRMnIiMjg4ODs7KycnJy6DYsbDabXn7a09NjvYp8ysksQ39OsXEQAJsuX74cEhLi4uISEhJC11omSVKpVFZWVp44cYJR489oNH51/KvZ82avSFrh6+XL5/Hpg/39/XS18KGhIct4iUSSlpYWFxc3Z84cFxcXejJcq9V2dnZevHgxKyvrEd4oeNKNaQUUQRBarZYkyZSUlGvXrt28edPcrstkMnV1dX388cf79u3Lz89vb29/iBf78LX0oWv1aNnMH45cq0ctfRN3QWBy0+v1H330UUNDQ2pqakxMDJvN1mq1BQUFhw8f7urq+mG5B44QB1FcSuuq/e2R36ZIU7Y9vS3MJwwzYr2S3gvnLxw9elSj0Vh3u2tubt69e/e+fftWrlwpFotJkmxoaDh9+nROTs5o7VEBeBjspwqKojo7O3fv3l1XV+fu7k5XRWYEKJVKT09PPp//0K7z0cks+1GqgCEFuD+9Xn/lypVr166Zl8CaTCaDwfDD1msuQtMQ2orQDoSCkI6lO8k5manIxL/F0UlEFVImpclgMNic8SZJUqFQ/O1vf3vvvffoB1wkSRqNxim9hwlMRWMaVWg0mqKiIp1O19/fP2/evMLCwq6uLvNZDoezceNGg8HwGDyAQghllqKDe370IwD3ZzKZrJtafycAoWcQeg4hD4TECPEQQsiIjEY3I1qFUBxCtxD6B0KVo744RVF6vf7x+OMCU9eYUgVJkhqNBiGUm5u7d+/et956a968eQ0NDQaDwdvbe9GiRevXr8/Ozu7p6XnIV/soDKpRTgXaFIcQQjkVaFA90RcEpq4ghPYitAehIIQYRRY4CIkREiHkgpAjQgcQqkHocdieBB5P42uYeu7cORcXl5UrV+7Zs0elUhEE4eDg4OTk9M0335w4cUIqldp9BZFIFBkZuXDhQl9fX5FI9PXXX5eVlTHWFHI4nG3bti1cuLCsrKygoMDmy+I4PmvWrEWLFoWGhrLZ7I6OjkuXLjU0NIxWnnNczpR+lyrOwJAC/GQ8hDYhtAOhYIRwhKw30mEIYQi5ILQUobcQeg2hIYQewPsXgAdvfKmio6Pj+PHjzc3NkZGR7u7uLBZLrVZ3dHQUFxfX1taOZZ5NKBSGhITMnDmTw+H84he/qK6urq2ttUwVPB5vxowZKSkpiYmJOI7fuXPHZqqYM2dOSkqKr6+vQqFACEVFRYWHh//973+XSCSjPgoYs8yy77Ztw0TFkwnHcZFItHDhQvqLCL1JorKysqWlxfrdxWazQ0NDY2NjfXx8MAwzmUwtLS03b94cDhwmk0g0fZQ88cMvQ8gZoTUIxSN0HSHNj05iGCYQCBYtWhQWFiYQCCiKGhgYqKmpqaur+/nvcwDGbnypAiHU2tra2tpKF+hns9lqtdqyao1dWq22qalpaGhIqVSmpDDXpbJYLG9v71/84hednZ0zZsy4zx9DcnJyZGTkN998k5ubSxDEwoUL//CHP6xcuTIjI4Ox4vAnIMjvpigI+Ir35MFx3NfXd+PGjdu2bYuKiqKL2XR0dFy9ejUrK6u0tNSyjA2LxZo/f/6WLVtWrFhBFxU3Go21tbWZmZlZgVk94T2Idd888d2vRMgBoWcQqv5RqsAwzNXVdf369c8880xMTIyDgwNFUVKp9Pr165mZmdevX4dsAR6ZcacKmlqtNq+XHReFQlFaWooQcnZ2tq4c5eLisnjx4jlz5vzmN7+ZM2fOfaogREZG9vb2FhYWtrS0IIQIgmhsbNy0aVNeXp51qsBxHMMwegEJXaHTzZGaH0K5W2QCikIUQiSJCAqRJKrpQgih+FCE44iFIRxHGEK2ivGAxw2Hw5ozx/f1FxN9vDEc3UMmhBBy8SWnbQjz58R8pa/SaH/4OHcQ8HY/E7Nm7XSxaBgjaumD7pFYqNuiGvH1Hs+xzt5hHAwlo9gMykmMsO/f9Ww2KyTE7T9fXeHrx2OzmpEJQwi5epBBqwJDHOfzlbdGRiBVgB9xdUOhng/lG+5PTBUPA5/Pnz179ubNmz/99NPW1tb7Lwc0Go1cLtfBwYF+PiAUCgUCQVRUlPWCXTab7e3t7e3tTe939fLycnd3nxtE/GOnkRg2b69FFEIEgQwEMpiQzohMBEII/VsS4nMQl424LMRiQbZ4IrA5mNChkdv6Btb6w0EcIReEtvsS6/chrfaHN4FAgASCDHbtj3bDsRBy4pIsPyWyUUjQNgqnkBc68G9obj/G/f4vncVCQmEfr/N3WOcPkRhCzgitciAX/wZpNPB2BD+C8Ql+qLH/IbzyZEkVGIZFRUWtXbu2p6fn5MmTduMrKyvXrVu3YsUKiURCEMSyZcsWLVrE4/EYzWQQQmKx+IUXXnjttdd4PB79i3g8Hqf3PFdIIfKHUQtFIYJEBIkMBDKakIlECCE2jjh0nsARC4c88WTAjBg1jGytTWUj5MhBjmyLwS6mxUxaZPXlXo8jcvyVAflOyFVHCX4YbJswpLR5JSyEHNlI6ATFB8GP8SjEpx7nVOHl5ZWUlBQcHLx///6xxH/55Zf0xPi+ffs0Gk1nZ2dmZubWrVutn1nJ5fL//d///fjjj+kHUH5+fvv27UtJdFSpMOPwD5/93z2AohBBfPcMCqHvnj6xWAjHYEjxpBDw+SJnZ9xWBzGKJHV6vWL4hyecLmIxn8fDcGYxfwGHYGEKhAxoPLTDSDaEsb8fVfC4XBex2PaVUJTBYBiUQ3F88CMsPibQPpTPqcmSKnx9fSMjI1esWHHp0iV6DiMkJCQ2Nvapp5764IMPvvrqK0a8XC7/5JNPsrOzRSIRjuMEQezcudPm8ieSJNVq9cjICP0jl8vVaDQ3m0X/8y9OU6ONL2XUd//7HmZ/VhI8TpKTl//xD39wd7fRDUIzMnLlSt6//9f/Mx/577//+8rlq+jqT5acMcqL+5YDka/BNWN5A+EI9zR5vvmBjN3wwxt4/rxZ//M//+Pl5W0dr9frysvLX3jzhTHeFHhCuHuwNmzhbt/94F95sqSK7u7ur776qri42Hxk//79EomkoKCgstLGTlaSJAcHB+VyOT1NHRAQMG/evJKSEnNKsERRlHm0QZIkRVEjeqxdhjU+DlsGwQPm16qt6TAsDQ5jdLqmKEra11xSp7B829yqH4pa6BjmHcZsQEQSgW0zxKJyjduPV7+OgkWwIuojyrtUIz0/pAp+h6G8UbUmJJHRNY+iqEGVtLhGBm9gwDBMogHVZBpVcLlcPp/PmBhQqVR2S9OwWCwHBwexWEzXVRaLxb6+vgghjUZz69atO3fumCN37tzZ1NR07do1ujynn5/f008/LZfLL168aDKZvL293dzcdDqdTqcLDg5et26dq6vryZMnf/5KWfCEu3fvXlZW1syZMz09PS1Lfw8PD5eUlFy8eNEy+MKFC1FRUZ6ens7OzuZsQZJkf19/d1r3yKIRtAwhtp31sjiFs3Qs6UGpUfajP5/u7u6vv/46NjbWy8vL/LdGVzivqqrKyMh4QHcMgH3jThXR0dFxcXFBQUGWNfRp//rXvxoaGu7/z4VC4YIFC7Zu3crlcrlc7urVq0NDQ2tra69cuVJVVWU5JjCZTHq9XqVS0dVvPD09169f39bWduXKFZPJ5OrqunLlyqCgIISQo6OjUCg8duxYSUmJVqsd7x0BYKmvr+/ChQsuLi5r166dPn06vcROKpUWFRVlZGTU1dVZBtfV1X311VdarTYxMdHX15fegtfU1HThwoVbGbdUEhVyRSj2frvwMArDhjGUiTrOdhhVP0oVQ0NDV69eff/999evXx8REUGlFil4AAAgAElEQVRvwevv7y8tLc3KyrI52gbgIRlfqggODt65c+ecOXMiIiKcnJw6Ozt5PF5gYCBBEA0NDWNZuYRhGI7jbDabJMkvv/zyu4tgs60bCF+8eFEqldKbsRFCCoWiuLh4YGCAnskYHh6Wy+X+/v58Pr+3t7eqqiovL0+lUkFDSvAzkSTZ1tb20Ucf0VUJuFwuSZKdnZ1FRUV3795lTIaZTKaCgoK+vr7KysrAwEAcxw0GQ11d3ZUrVwYHB8lhEjkgxEIo6vs/Ncu3OYUQidAAIi+RxPuEcdDIqOpBkmRfX9+RI0fa2tqio6PpLXg9PT23bt2qqKiA4rLgURpfqli7du38+fNv3749MjLi4+OTlpaG4/jixYsjIyNzcnLGUi5weHj48uXLly9fthv5z3/+0/LH9vZ2yyMSicScaQB4sEiSHBgYOH78+FiCTSZTVVVVVVWVjXNShE4hpEFoB0IBCPki5PB9ttAjJEOoG1ElFDqKjPW2P/fpx01nzpw5c+bMT74dAH6+8aWKVatWVVVVpaenb926lcVi5efnt7S0HD9+/NNPP/Xw8BAIBA/pKgGYqnoQ+gKhqwitQWgjQgEIsRGiEBpAqAihcwiVIwQ9isCkx1wPfn/e3t5SqVQmk1EUheM4XR5nZGQkLS0tISHB29vGqj4AnnRGhFoR+hChtQglIpSE0FMIPY3Q/0OoEPIEmBrGN6qgV5oihAwGA47jrq6uCCGKohQKhYuLC70dGgBgG4XQMEJKhKgf790BYNIb36hCKpUKBAIHB4e+vj4ul7t06VIWi8Xlcjdv3gyNugCwj57KhjwBpprxjSpu377t7u7u5uZWWVkZHx+/d+/eBQsWIITmzJmTmZk5ltZGAEwIPp+/efPmhQsXurq6UhRFlyW+fPmyze83OI57eXlt3bp17ty59AqolpaWvLw8m+uOOBxOXFzcqlWrQkND6RVQt2/fzszM7Ovrs9loi8fjrV69+qmnnvL29sYwTC6X37x5Mzs7eyztXgCYKONLFdnZ2S4uLp2dnSMjI6dPn9br9dOnTzcajadOnTp16tTj0TAVPGYwDHNyctq/f//q1avDwsIcHBwQQkqlcu7cuSEhIR999BEjW7BYrIiIiJdffjkpKcnf35/eVzEwMDBr1qyTJ0/m5ORYZgsOh7Np06YdO3bMnTvXw8OD3lcRHx8fERFx5MiRhoYGRqV9Ho/3yiuvbNiwYcaMGc7OzgghjUYTFxcXHh7+/vvvw2pvMGmNL1XU19eb/39JSYlEIgkKCiIIoq2traurCxZ6g0nI0dFxzZo1zz//vJ+fH4fDoQ8KhUJXV1cXF5eGhgZ6U6c53s/Pb9OmTTt37nRzczNv9xEKhe7u7gih7u7ukpISc3BcXNyOHTtWrVrl6OhoDnZycqIXgBw/fryz84cC4mw2e8WKFXv27Jk5cyaPx6PjhUKhWCz28/O7d+/exYsXGc2DAZgkxjdXQePz+X5+fsHBwVwut6WlpbS0tK2tDfIEmJzEYvHu3bt9fX3NeQJ9X4s+JCQkNTXV8jhCKDw8nK4TY7ktFMMwR0fHuLi4lStXWgavWrVq7ty5lnkCIUSv+Fi3bl14eLhlMJfLTU1NDQkJMecJ+pW5XK6Pj8+uXbvEYvEDvHEAHqBxF/YICAiYNWvWrFmzAgMD2Wz24OBgXV3dnTt3mpubYVobTEICgSAmJsa6kQmGYUKhMCYmhlGMz83NLSyMWSuQjnd3dw8LC7M8GBoaSj93YgTjOD59+nQ3NzfGQbrvqXU8h8OJiYmxbswFwCQxvlQhFov37t27bds2ulQfSZJ03cBvv/32v/7rvxobG2FsASYhlq2WDzSbKcQ6T9BwHGeconvxjhZsfer+VzLaSwEw4caXKrZt2/bss892dXW9//77t27d0mq106ZN27Jly549e7q7uz/88MO2traHdKEA/DQURY22uMjmKYIgDAbbLYlMJhPjlMFgsG6RYj5l3T1ep9ONNnF9n1MATLjxpYrk5OSampqPP/64qKiI/jOQSCSVlZUEQSQmJmZlZUGqAJONWq0uKCjYtWsXn8+3/NpO1xW/evUq47NeIpFUVFR4e3szRgAkSXZ1dVVUVFgevH37dnx8vJOTE2O0QRBEeXm5RCKxPEjXFvT393d3d2dciV6vv3r1qlqt/vn3C8DDML5pbX9///r6+vb2dqPRSJIkSZImk4n+UxSLxQ4ODgcOHHj77bd9fHwe0uUCMF6Dg4MHDx5sbGy0/NpOl+GrrKw8fPgwY6BQU1OTlpbW1dVlOSagW2kVFBRkZWVZBmdmZn7zzTdyudxyCwVBEF1dXenp6TU1NZbBBoPh0KFDVVVVarXa8kp0Ol1DQ8MHH3wwODj4YO8dgAdlfKMKo9HI5XIZ37YwDBMIBHTm6OzsJEkS5rfB5GE0Gpuamvbv35+ampqYmEhPNff09Fy7du3EiRNdXV2MjXJqtfratWtvvfVWampqXFwcj8cjSbKpqen8+fNnz57t6+uzDKaLhEul0nXr1k2fPh3Hcb1eX1FRkZ6efu3aNcYogR6XvP322zt27Fi2bBn9jWpwcLCoqCgtLa2pqQmm+sCkNb5U0djYGBcXV1dXJ5PJhoeHEUIcDic4ODglJaW3t1elUuXn51MUBWvDweRBP94pLCxUKBS5ubl01weVStXe3t7Y2Gg9nUBRlEwmu3TpkkQi8fPzY7FYFEUNDg42NjZKJBJGXiFJsqGh4fjx4+Xl5fQ+DIIgJBJJTU2N5dDBjH4wpVQq8/LynJycMAzTaDQdHR3WnTAAmFTGlypycnLeeOONXbt2RUREdHd3m0wmsVgcGRkZHx//4YcfSiQSqO0BJqf7dZWwQucSy07v90EQRGdnp+VWO7tXUldXx+imB8AkN75U8c033wQFBa1Zs2bjxo0EQRAEweVyTSbT+fPnc3JyBgYGHtJVAgAAmED2UwWHw3FwcFCr1QRBKJXKTz75pLq6OiEhISAggMPhyOXympqaixcvDg0N2SyOBgAAYKqznyo8PDzi4+O//fbboaEhiqI0Gs21a9euXbv28K8NAADApGA/VURHR7/33nvPPvtsVVWV9RwgAFMCXWrJvCOaXudtNBpH2/WG4zgdT/9IkuR9dtux2Wwul2veWkHv1BttkI1hGIfDYbPZdDxFUXQ87L8Dk9m4a0ABMOVgGObg4PDyyy8nJyd7e3tTFNXR0ZGTk/PVV19ptVrreBaLFRAQ8NprryUlJfH5fIIgqqur09PTr169ar0QnMfjrVixIjU1lS4npdPpCgoKDh06xNiZYcbn83fv3r1p06agoCAMw3p7ey9cuHDkyBGNRgPZAkxakCrAYw7HcRcXl8OHDyckJHh4eNB1ZIOCgqZPnz579uzf/e53jIoabDZ73rx5f/nLX2JjY52dnelRiL+//4wZM8LDwxn9Lej+E3v27AkJCaE7YVAU5e/vP3v27Lfffru8vNxyIIJhGJ/P/8c//rFy5UofHx+6wXBwcHBoaOj8+fNfffVVhUIBE35gchrrbm34vgOmKLFY/Nxzzy1fvtzf39/BwYHD4XA4HEdHx+Dg4JUrV+7atcu6CPmOHTsSEhLc3Ny4XC4dLxKJIiMj169fv2rVKsvg1atXb9iwYebMmc7OznQkl8t1d3dfsGDBjh07GEXIORzO7t27V65cGRwc7OjoSMc7ODj4+/svX7587969UIQcTFpjGlW4u7u/9dZbg4OD90kYFEV99NFHlr2PAJgMnJ2dN2/e7OLiwqgywOFwfHx8Nm3alJ6eblnbY9q0acuXLxcKhYx+FTweb+bMmYsXL87NzTUff+qpp2bMmGHZfwJ939xi2bJleXl5lvsn2Gz2pk2bfHx8GMmJxWK5uLhs3rw5MzNTLpc/wHsH4EEZU6rg8XhRUVF2n6Wmp6c/oKsC4IHhcrlBQUE2q3/zeLzg4GBGpT+6h511PXAMw5ydnb29vS0Pent7mx9SMYJ9fHycnJwsD+I4HhQURD93YmCxWHSvsLHfFwCP0phShVKpzMzMpOs73Sesu7v7AV0VAA/SffpAjLdFBCP+/v/cZgp5UFcCwKM0plShUqnOnj0Li2XBVGQymXp7e729va0bFhmNxt7eXsZYWaPRyOVy69529KYixgMiuVyu0WgYT6voYPoU42Bvb29wcDDjARRCiCTJ3t5eKAMFJq2f0lsbgClEqVReuHBBpVIxxsQmk6m/v//8+fOMD+jOzs6ioiLrRkN0hVpGYaibN29aV4Sl64oXFhZ2dHQwfuOFCxcGBgYYX7lIklQqlefPn1cqlT/nTgF4eCBVgMecXC4/fPhwZWXl8PCwyWSiq+UbjcbBwcFbt24dPXqU0a+itrY2LS2N7m9Bfk+v10skkry8vJycHMvg7OzsvLw8qVSq1+vNwXT/ibS0tLt371oGGwyGI0eOlJSUDA4OWnZ8GRoaqqys/PDDD2FOG0xasK8CPOZIkpTJZDt27Pj1r39Nb8FDCLW3t2dnZx87dsx6sYbJZLp58+auXbt+85vfJCUlCQQCk8lUXV2dlpZ26dIlRoNVnU73/vvv37t3b9euXTExMWw2W6vVFhQUfPDBB01NTYzxCv0I69VXX927d+/mzZuDg4MRQvQWvA8//FAmk8GmCjBp2U8VxcXFycnJo209BWDyo7PFoUOHjh07Rs8TGAwGpVJJlzWzjjcYDI2NjQcOHHjvvfdwHKcfKA0NDdlsaKpSqS5evHjz5k26IStJkiMjI/S4wTqYoiiFQvHFF19kZmbS652MRqNKpWL00QNgsrGfKtRqdVNT0yO4FAAeHjpbyGSysQRTFGUwGHp6esYYrFKpxt7OiyRJuVwOz5rA1AJzFQAAAOyAVAEAAMAOmNYGUxKLxZo2bVpoaKhYLMYwzGAwdHV11dTU6PV6m9MPbDY7Ojo6MDCQLuqnUqna2toaGxttbmWgK3PMmjXLure29Ywdi8Xy8/MLDw8fS29tAKYoSBVg6mGxWDExMdu2bVu9enVgYCCGYSqVqqys7NixY0VFRSqVyvIzmu5UsXDhwl27diUmJrq6uiKEent7v/nmmxMnTpSVlTE+/TEMc3d3X7Zs2a5du+Li4rhcLkmSzc3N586dO3v27L179yznn3Ecj4iI2LRp07p168LCwnAcNxgMFRUVaWlp165dk8lkkC3AY+LAgQMTfQmPVGBg4JEjR3Jzc6Oioib6WsBP5O/v//XXX9MluymKoiiKbj3U3Ny8fPlygUBgGczlcqOjoysrK7VarWW8Uqm8cuWKzRpQ27dvb29vJwiC+h5BEAMDAwcPHvTx8bEM9vHxOXjwIL2rzhxsMpna2tq2b9/OqAEFwMPm5eX15ptvNjc3091THtTLBgcHw1wFmHr27t2bkJAgEonM5TTo1nJBQUEvvvgivV/BzM3Nbd++feHh4fRiVnO8o6Pj7NmzX331VUaRvlmzZu3atSsgIMAyheA47urqunz58i1btlgGb926NSkpyc3NzTKY7oyUmpo6a9asB3rfAEwYSBVg6lm0aJGnp6d1fT02m71o0SI3NzfLg46OjklJSdb1XOlKsUlJSeauqDQ/P7+4uDjrglE4jgcEBMTFxVkenDt3rr+/v/WVsFisuLg4Pz+/8d4aAJMTpAow9fB4POuPchqfz2eMu+neczaDcRxnPK1CCLFYrNGKgdM9tC2PWPbftr7IB/gEAICJBakCTD30lMPYT92n0ID1KXomw2aw9anxXgkAUxSkCjD11NfXDw8PW38QkyRZV1fHqM+q1Wqrq6uty2xQFDUyMlJVVcX49B8cHGxubrbOFhRFDQwMtLS0WB5saWkZGBiweSXNzc2Dg4PjvTUAJiccvviAKSc7O7uuro5R6Y9epJSRkSGRSCyDh4aGvvrqq56eHoPBYI6nKEqv17e2tjK6pSKEGhsbz507xyjKRFGUWq2uqKjIy8uzDM7Ly6uoqGBsoSBJcnBw8Ny5c42NjQ/wrgGYQLCvAkw9RUVF6enpGo0mJiaG3ieh1+s7Ojry8/PPnz/P+C6vVqsvXbo0Y8aMVatWTZ8+nd6Cp1Qq6+vrz507V1BQwNiFJ5FIzp496+vru3z58oCAADabTdePqqioOHnyZEVFhWUwfRAhFBcX5+7ujuO4yWTq6uoqKCg4e/YsI2kBMHVBqgBTj8FgSEtLa29vT0pKole1qlSq8vLyjIwMxv47hBBFUUql8t13321oaFi4cKF5C96NGzfy8vL0ej3jxQmCuHfv3t/+9rd79+5ZbsG7cuVKRUUF40GW0WjMycnp7u5euXKl5Ra8rKysvr4+KBYLHhuQKsCUZDAYCgoKCgoKxhiv0+lOnjxJjwDsIkmyp6fnww8/HEuw0WgsKSkpKSkZ45UAMBXBtDYAAAA7IFUAAACwA1IFAAAAOyBVAAAAsAOmtcGUxOFw4uLiEhISvL29MQzTaDS1tbWXL18eGRmxuVWIx+OtWLEiNjZWJBIhhGQyWXl5eVFREWNTBQ3HcTc3t5UrV0ZFRXE4HJIkOzs7i4uLa2trbfa3AOCxB6kCTD0cDmfDhg1bt26Nj4/38PDAMEyn0zU0NEybNi0tLa2/v99ylSqGYUKhcM+ePRs2bIiOjqYLg8vl8srKyoCAgBMnTjCyBY7j06ZNS01NTU5ODgsLo1NFT09PbGxsRkaG9T4MAJ4EkCrA1BMbG/viiy8uXrxYKBTSVV1FIpGbm1toaGhPT8/Fixflcrk52MHBYfHixfv37w8KCuJwOHS8s7Ozl5eXj49Pa2vrzZs3LStBeXl5JScnv/LKK56enuaihCKRyNfXVyAQ9Pb2VldXP9rbBWDiwVwFmHq2b98+e/Zsc56gsdlsb2/vHTt2+Pv7Wwa7uLg8//zzgYGBXC7Xsl+FQCAIDw9/7rnnGMViZ8yYsWXLFss8gb6vWL5gwYK1a9c+zDsDYJKCVAGmntmzZ7u4uNjsEjFnzhyxWGx5UCAQLFiwgMPhMILp7kbx8fGMUuGenp6RkZHWRc4xDPP29p45c+YDugkAphJIFWDqYbPZ1nmCxmKxGKcwDButbwSGYdbdJnAcHy0ex/HRulMA8HiDVAGmHpPJNFpFZLrHteURutm1zWCbp0iSHC2eJMn7tL4A4DEGqQJMPaWlpTa7RBAEUVJSwqgsOzIycv36db1eb51CVCrV9evXGZ/+Uqm0srLSOiWQJNnd3V1ZWfng7gOAKQNSBZh60tPTKyoqlEql5ae/0Wjs6uo6duxYZ2enZbBcLj9y5EhbW5tltqAoit6K8fHHHzMWy9bV1Z06daqnp8cyW5AkOTQ0VFhYePbs2Yd5ZwBMUvDgFUw9zc3Nhw4dkkqlS5Ys8fX1xTBsZGSkurr69OnTxcXFarXaMliv19+5c+fAgQMpKSnz5s0Ti8V0P7uSkpKMjIy6ujrGAEKhUFy5ckUgEGzdujU6OpreV9HR0XH16tWsrKz29vZHeqsATA6QKsDUYzKZrl+/LpPJbt68SW/B02q1zc3NxcXFWq3W+kGTVqvNycnp6emZMWOGo6MjQkihUNTV1VVWVtqcq5BKpV9//XV7e3tISAidKnp7eysrK1taWmCuAjyZIFWAKclkMlVXV499N5zBYCgsLCwsLBxLMEmSCoXiwoULP+MCAXiswFwFAAAAOyBVAAAAsANSBQAAADsgVQAAALADprXBpMDhcGJjY+k6gGw222QylZaWpqenNzc329w7zePxVq1atW7dupCQEBzHlUplYWHhZ599plQqLSuQ0zAM4/P5u3btSkpKcnd3Rwh1d3fn5eVlZWXpdDrrF2exWD4+Pnv37l20aBGPxyNJsr6+Pjs7e7T+FgA89iBVgIlH95948cUXzXUAKYqaMWNGVFTUoUOHrl+/zsgWPB7vtdde27JlS3h4uKOjI4ZhRqMxOjp61qxZf/7znzs6Ohj9KsRi8V/+8pelS5f6+/vz+XyE0MjISHR0dGRk5F//+ldGtmCxWDExMW+99VZCQgJdX5aiqFmzZkVHR6enp6elpUG2AE8gSBVg4sXFxW3dutWy/wRCKCAgQCQSSaVSmUzGWBS7atWqLVu2xMXF8Xg8Op7P5zs4OLi6ut69ezc9Pb2np8ccLBKJtm3btnnzZi8vL3OxPx6P5+joyOfza2trMzMzjUajOX7atGnbtm1bs2aNSCQyXwyfz3dyctJoNO3t7QUFBQ/1vwYAkxDMVYCJl5CQEB8fz+g/QbeIWLJkyaxZsxjx69atCw8PN+cJGovFcnFx2bhxo4+Pj2WwSCR69tlnPT09LYvCYhjG5XIDAwO3b9/OqE8eGhq6evVqyzxBxzs4OMTExCQlJT2QWwZgaoFUASaet7c3vemacRzDMF9fXw8PD8bxkJAQ+rkT4ziO46GhofR+bDMejxcREWFdV5zubhQREcFoTSEWiwMDA21ejKura0BAwLhuDYDHA6QKMPEwDBut/4TNUziOjxZv89RowXT8uC7GOh6AJwG878HE02g0Nlci0ae0Wi3joFKptJxdMKMoanh4mHGKIIihoSGb/S1snjIYDCqVyma8Xq9n1CIE4AkBqQJMvNra2oaGButFsUajsaqqqrm5mXG8sLCwt7eXUbmPoiij0Xjjxg2ZTGZ5XK1W5+fnW5cRpAs9XblyhfF7u7q6ysrKrC+GIIj29vaysrKfcIMATHWQKsDEu3z5cm5ubl9fn+WnP0EQEomErivOiP/ss8+KioqGhobMi2LpPNHS0nL06NG2tjbLYJlM9s9//vPevXuW2YLua3T79u2DBw8yFr/W1NTQTS8sswVJkjKZLD8/PyMj4wHeOABTBWvZsmXffvvtRF/GoyMSiRYvXuzs7Jyfnz8wMDDRlwMQQshoNLa2tra0tPD5fKFQqNFohoaGrl69+ve///3q1asqlYoRbzAYqqqq5HK5g4MDh8NRq9VSqTQ3N/c///M/7969y/jopyhqZGSksLCQJEmhUEiSpEqlunfvXnp6+j/+8Q+pVMoYbRAE0dfXV15ezuPxnJycdDrd8PBwWVnZhx9+mJaWxhiyADCpODo6xsTEzJ8//+TJkzY7Rf40YrEY9lWAiUdRVH9//8WLF2tqasRiMYZhJEnK5fLOzk61Wm39dqd7DaWnpxcUFNDrnUwmk0wma2trs9l222Qy3bt379ChQydPnuTxeAghrVbb19cnkUist3bTA46SkpLe3l43NzcWi0VRlFKplEgkg4ODD+pvD4CpBVIFmBTo3CCXy8ce39PTY7nV7v4IgmhtbW1tbR1LMN0Nqb6+fowvDsBjD+YqAAAA2AGpAgAAgB3wAApMCjiOi8Vif39/eq6Coii5XN7R0WFzroKO9/b29vHxocuBGI3G+8xVIIRYLFZQUJCnpyeXy0UWcxU2e2XTlWiDg4Mt5yroalTWcxsAPAkgVYCJh2GYp6fnihUrdu7cGRsby2KxCIK4devWsWPHioqK5HI549Mfx/GgoKCUlJSNGzeai5DfuHHjyJEjd+/e1el0jHg2mx0REfHiiy8mJSXRZUK6u7svXbqUlpbW3NzM+PTHMMzJySkuLu7f/u3fLIuQZ2RknDt3TiKRwMw2eBK98847E30Jj1RgYOCRI0dyc3OjoqIm+lrAdxwdHX/3u991d3cTBEF9z2Qytbe3792718HBgREvFos///zzwcFBkiTpYJIk9Xp9fX39vHnzGOX/WCxWYGBgWVmZRqOxjB8eHj5//ryrqyujjAefz1+7di3dJ8N8MQRB9Pb2/vd//7ezs/ND/88BwE/l5eX15ptvNjc3x8TEWNc9+8mCg4NhrgJMvNWrV2/YsMHb29uywhKLxfL19d2+ffuiRYsY8b/85S8TExPpR1X0EQzDOBxOSEjISy+9NG3aNMtgd3f3N954Y+bMmXw+3zLe0dFxzpw5+/btox9Jmc2aNWvv3r1BQUGWf2k4jru7uz/99NMpKSkP8MYBmCogVYCJFx0dbbP4K4fDiYmJCQsLYxx/6qmnGHkFfZ8tFi9eTPe5M3N0dHz66act8wQNx3EXF5eVK1daFidHCAUEBMTHxzMOou9nO+bNm/cTbhCAqQ5SBZh4Dg4OdHM6a0KhUCAQMA46OzsznjLR6BYXjE95FotlOf6we4rL5TLKmJvR+7fvcyMAPK4gVYCJR88HjP0UPeUwWvwYD4526j4Xc/+XAuAxBqkCTLze3l6b9WooipJKpdalulpbW0cr+NHS0jIyMmJ5UK/X2yxbS2/JbmhoYKyAGhoaYnTnNsfTtUbGdWsAPB4gVYCJV1JSUlpayvj0p3czXL9+vaamhhF//vz5xsZGxqJYgiAUCsXZs2elUqll8PDwMF06zbKPBUVRBoOhs7Pz1KlTjP4WLS0teXl5w8PDjIvRaDTV1dXQWBs8mWBfBZh4FRUVmZmZLi4us2fPplevUhQ1MDBQXl6emZlZV1fHiM/LywsPD0cITZ8+3cnJCcMwg8HQ29tbXFx85syZvr4+y+Dh4eEzZ87ExsYuWbIkICCAz+fTn/ttbW0XL17MyclhpIq2trYzZ86EhoYuWLDA09OT3oI3PDx89+7drKyswsLCh/1fA4BJCFIFmHhGozE3N7erqyslJSU2NpbNZhuNxtLS0uPHj9P7Gxjxer3+0KFDDQ0N69atCw0NxTBMqVQWFhZ+/vnnSqWS8eyIoqihoaHf//73u3btWr58uYeHB0VREokkLy8vKyvLuvseQRDV1dW///3v9+7du3DhQj6fTxBEfX19dnZ2cXExo8I5AE8K2IIHAACPB9iCBwAAYMJAqgAAAGAHpAoAAAB2QKoAAABgB6yAApMCi8UKCAiIi4vz9/fHcZwkyfb29lu3bvX399tsEcFmsyMjI2fNmuXh4YFhmFarbW5uLi4u1mq1NjdUc7ncBQsWREREODk50Wui6urq7ty5w1gpCwCwCVIFmHgsFis6Onrz5s1r164NDaGdGsIAABBZSURBVA2l+1XU19efPXv27Nmz1i0l2Gz2kiVLtm3btmTJEh8fHwzD6P1xfn5+586dY/S3oPsUrV+/fvv27XFxcWKxmKIomUx28+bNjIyMy5cvWy/GBQAwQKoAE8/Pz2/Hjh0vvPCCm5ubuV5sYmIiXVM2LS2tt7fXMj4sLOy1115bsWIFvf8OIeTq6url5RUVFaVQKL755huVSmUO5vF4c+bMOXDgQGhoKJfLNcf7+/uHhIR0dXXdvXvXZi88AIAZzFWAiZeUlLRq1SrLPIEQwnHcy8trw4YN8fHxjPjU1NR58+aZ8wSNw+H4+/vv2bMnMDDQMtjV1fXll18OCQnh8XiW/SocHByioqJ+9atfMfpVAACsQaoAEy8iIoLue8o4juP4zJkzGa2KEELx8fHu7u7WdcVZLNaCBQtcXV0tDwqFwiVLlljnA7ox6uLFix/gTiUAHleQKsDEY7FY1nmCxmazrU+x2Wyb/SdsxmMYZt2nyHzKZt8LAAADpAow8UiStLnMCSFEEIT1Kbrr9WjxjFN0Z+zRfjXMUgAwFpAqwMRraWnp7Oy0TgkkSTY3N3d1dTGOV1VVMZY50QiCqKysHBoasjyo1Wpv3bplXeaPoiiVSnXr1i3IFgDYBakCTLzr169fu3ZtaGjIMluQJCmTyS5dunT79m1G/OnTp6uqqhj9LUwmU09Pz9dff93d3W0ZrFAoPvvss66uLr1eb46n+xo1NjZ+8cUXUCwWALtgsSyYeC0tLadOnUIILV26NCgoCMdxgiBaW1uvXLmSnZ1tPaqorKz89NNPFQrF/PnzPT096S14DQ0N586du3r1KmNUodFoCgsL33///Q0bNkRHR9Nb8BQKxZ07d7Kzs0tLS2FUAYBdkCrAxDOZTLdu3RoYGKipqTFvwbt3715BQYFUKrX+KKf7W0il0gULFpi34NXW1l6+fHlkZMR6rkKtVn/66aft7e2zZ882b8GrqKgoKiqCIQUAYwGpAkwKJpOpsbGxsbFxjPFGo7GkpKSkpGSM8Xq9/sKFCxcuXPipFwjAEw3mKgAAANgBqQIAAIAdkCoAAADYAakCAACAHTCtDSYFuv9EcnLyzJkz6RVQVVVVOTk57e3tNhezcrncxYsXL1++PDAwEMMwtVpdXl5++vRplUplcyM3n8/fvHnzwoULXV1dKYrq7e0tLCy8fPmyXq9/+DcHwJQHqQJMPDabnZSUtHv37oSEBC8vL7q1UXx8/IwZMz7//POysjJGSwkul7tr166tW7fGxMS4uLhgGKbX6+Pj48PDwz/44AOpVGq5lY8uC7h///7Vq1eHhYU5ODgghJRK5dy5c0NCQj766CPIFgDYBakCTLzo6Ojt27dv2LDB2dnZXAcwPDzc09NToVDI5fKGhgbL+MTExNTU1ISEBIFAQMcLhUKRSOTn59fa2pqZmTkwMGAOdnR0XLNmzfPPP+/n52cuDigUCl1dXV1cXBoaGq5cuQLdjQC4P5irABNv0aJFiYmJlnkCIYTjuFgsXrFiRWxsLCN+8+bNkZGR5jxBY7FYHh4eKSkpfn5+lsFisXj37t2+vr6WRWQxDOPxeCEhIampqVBcFgC7IFWAiRcYGEhvumYcx3E8KCjI29ubcXzmzJkikchm/MyZM52dnS0PCgSCmJgY6zrkGIYJhcKYmBjoVwGAXZAqwMTDcXy0fhU2T+E4Plq/ChaLZbPl0Wi/erRWFgAAS5AqwMQzGo1Go3G0U9YTCXq9frT+Fnq9nrFiiqIonU5nM/g+pwAAliBVgIl39+7d5uZm609/giBqa2tbWloYx4uLi/v7+60XxZpMpqKiosHBQcuDarW6oKDAsgI5jaKo4eHhq1evwpw2AHZBqgAT78qVKxcuXOjv77fMFgRB9PT0nDlz5ubNm4z4Y8eOlZSUWPa3oCjKaDS2t7d/8skn7e3tlsGDg4MHDx5sbGzU6XSW/SrUanVlZeXhw4ehuCwAdsGDWjDxBgcH09PTFQoFvbSJzWabTKbKysqTJ0/m5+cPDw8z4nt6et59992WlpZVq1YFBgbiOK5SqUpLS7/88suKigrGMyWj0djU1LR///7U1NTExEQ3Nzf6Fa5du3bixImurq7RnmUBAMwgVYCJR5JkW1tbRkZGTU0NvQWPHlLU1dUpFAqbD6aqq6tVKtWNGzfEYjG9Ba+7u7u6utpgMFg/aNLr9YWFhQqFIjc318HBgW6V2t7e3tjYCH2NABgLSBVgUiBJsqenp6enZ4zxBEE0Nzc3NzePMd5kMlVVVVVVVf3UCwTgiQZzFQAAAOyAVAEAAMAOeAAFJgUMwxwcHFxcXOhyHRRFjYyMyOVy60Wu5niRSCQSiXg8HkKIIAi1Wi2TyUabe8Bx3NXV1dnZmd5zZzAYlEql5RoqAMB9QKoAk4JQKFy8ePHzzz+/YMECFotlMpmuX79+5MiRO3fuaLVaRjCGYWKxeNu2bc8++2xERASGYUNDQ/n5+f/85z+lUqn1Pgkcx93d3V999dXk5GRvb2+Kojo6OrKzs7/44gu5XG4zFQEAfuSdd96Z6Et4pAIDA48cOZKbmxsVFTXR1wK+w+Pxfv3rX9NbH4jvaTSau3fvbt++ncvlMuIFAsGhQ4e6u7sNBgMdbDKZVCpVWVlZVFQUo4wHjuOenp4FBQVyudxoNNLxBoOhr6/vxIkTQqFwtBohAEw5Xl5eb775ZnNz84MtbhYcHAxzFWDirVixYsOGDUFBQTweD/8en88PCQlJSUmJj49nxO/atWvp0qVeXl4cDocOZrFYQqEwMjLyhRdeCAoKsgx2dXV99dVXY2NjRSIRm82m4zkcjpubW0JCwksvvWSdigAADJAqwMSLjY2Njo5mFAOn64TPmzdvxowZjPikpCR/f39GpT8MwwQCwYoVKzw8PCyPOzs7JycnOzk5McoO0kXLk5OToWIgAHZBqgATTyQSOTk5WT8IouckHB0dGcfd3d35fL7162AY5uHhQU90m7HZbG9vb5uVazkcjre3NzyAAsAuSBVgUnsgc84wcQ3AzwSpAkw8mUxmcyUSRVEDAwNDQ0OM493d3SMjIzbju7u7GSumDAZDR0eHzUW0er2+o6MD1ssCYBekCjDxysvLKysrtVqt5ac/RVEajaakpOTu3buM+Ly8vLa2Nka5J5IklUrlxYsX+/r6LIOVSmV2drZCoWBkC6PRKJVKs7OzoQg5AHbBhB6YeEVFRQEBAT4+PuHh4Y6OjvQWPJVKVVtbm5GRUVlZyYjPysqKjIzk8/mBgYECgQAhRBCEQqG4fft2enq6RCKxDB4aGvriiy/mz5+fkJDg4eFBT57r9XqpVJqfn5+WljZaVyUAgBmkCjDxDAbDiRMnWltbn3vuufj4eDabbTQab9y48fHHH9fV1Vl/69fpdH/9619ra2u3b98eERGB4/jQ0NCVK1cOHjxovQGbJEm5XP7CCy+89NJL9BY8hFB7e3tOTk5aWpr1/j4AgDVIFWBSMBgMN2/erKioMO8bojfKjVaoQ6fTZWZm5ubm0kubKIoymUzWFchp9LOsw4cPHz16lF7vRJKkyWSC8QQAYwSpAkwWBEGM6zv+fTpyW6O7Vuj1+p90aQA86WBaGwAAgB2QKgAAANgBqQIAAIAdkCoAAADYAakCAACAHZAqAAAA2AGpAgAAgB2QKgAAANgBqQIAAIAdkCoAAADYAakCAACAHZAqAAAA2AGpAgAAgB2QKgAAANgBqQIAAIAdkCoAAADYAakCAACAHZAqAAAA2AGpAgAAgB2QKgAAANgBqQIAAIAdkCoAAADYAakCAACAHZAqAAAA2AGpAgAAgB2QKgAAANgBqQIAAIAdkCoAAADYAakCAACAHZAqAAAA2IFjGDbR1wAAAGBSg1EFAAAAOyBVAAAAsAOnKGqirwEAAMCkBqMKAAAAdrAf8e+LiIjYvHnzggUL/Pz89Hr9vXv30tPTKyoq1Go1QigxMfHo0aOMf1JcXHzs2LGioiLrVwsJCdmwYUNycrJYLO7s7Pzss8+uX78+MjLyKO4EAACeGI86Vfj6+oaGhpaWlvb19WEYlpSU9Prrr3/88cf5+fkmk6mlpeUvf/mLOTg8PDwlJQXDsJ6eHuuX8vHx2bFjR2JiYllZmUQiiY6Ofuedd/74xz+WlJRAtgAAgAeI/YgXyzY1NaWlpXV3d8vlchzHJRLJO++8ExsbW1FRMTAw0N/ff/bsWXPwL3/5y76+vrq6OqlUav1ScXFxs2bNamlp+fLLLxUKxZ07d+Li4latWtXW1tba2voI7wkAAB5zj3pU0d3d3d3dbf6xsrLSYDAIhUIOh4MQIklSq9XSpwQCwdy5cwcHB2tra3U6nfVLRUdHczickpKSxsZGhJBKpbpx48bcuXPd3d0tUwWGYTiOs1gs+kc+n89mswUCgY+Pj0qlenh3CgAAj5iHh4eLiwuGYWz2A/5sZ0/sCqh58+YhhHp6eqw/tWfMmBEWFvbtt9/W19fb/LdeXl4EQUgkEvpHkiTr6urWrFkjFAotw/h8/uzZs+fMmUNnC3d398jISE9Pzx07dshksgd/SwAAMEGEQmFkZCSLxRKLxQ/2idGjHlWY4Tg+ffr0X/ziF21tbZWVldapYvXq1Qih2tpamxMVCCGBQIAQMo9CKIpSqVQODg6MdMrj8aKiojZu3EgPXFgsFovFUiqVUVFRsFAYAPA4occTDQ0ND/yVJyZVsNlsf3//3/72tx4eHu+9996dO3csz2IYJhAIkpKSGhsbm5ubCYKw+SIEQVAUheM/rPflcDgEQZAkaRk2PDz85Zdffv3113SOFQgEwcHBzs7OMpnMaDQ+hJsDAICJgeO4o6OjQCC4ffv2aJ+cP80EpAocx/39/f/whz8sWrTolVdeKSsrY0xFsFisefPmhYaGnj59uq2tbbTXUSqV7u7uIpGI/hHDMHd39+HhYYPBYBlGUZTRaDRnhZGREXjuBAAA4zIBW/CmT5/+H//xH0899dSLL75YXl5uPWXNZrO3bdvW29tbV1c3NDQ02ut0dHRwOJzp06eb/1ViYmJ7e7tSqXyIVw8AAE+eRz2qiI2Nffnll2NjYw8cOCCRSIRCoYODg16v12q19HAJx3GRSLR27drs7GypVGo5neDp6fn666/LZLIvv/xycHCwuLh4/vz569ev7+7ubmpqWrp06dKlS//0pz+ZJ7oBAAA8EI86VcyYMWPLli0CgeC3v/2tRqOhD168ePHMmTMtLS0IIaFQuHTpUldX12+++aa/v9/y3woEgtjYWIlEwuPxEELNzc0ZGRmbNm36zW9+g2GYwWD45JNPrl69ep+BCAAAgJ/gUaeKO3fu/PGPf2QcbGxsNH++GwyGu3fvvvHGG+Xl5ebVTTS5XH748OGRkRE6WKPR3Lx5UyaThYaG8ng8pVJZVVXV1dVlMpkezb0AAMCT4p133pnoSwAAADB5BQcHQ2VZAAAAdkCqAAAAYAekCgAAAHZAqgAAAGAHpAoAAAB2QKoAAABgB6QKAAAAdkCqAAAAYAekCgAAAHZAqgAAAGAHpAoAAAB2sBFCwcHBE30ZAAAAJi8M+ksDAAC4v/8f62Oh4ynxCdEAAAAASUVORK5CYII=)"
   ]
  },
  {
   "cell_type": "markdown",
   "id": "4644e047-d279-42ba-bc2f-afc3cf331d3a",
   "metadata": {},
   "source": [
    "Trong hệ trục tọa độ dòng & cột (gốc tọa độ là ở góc trái trên), ta sẽ có các điểm dữ liệu màu trắng là tọa độ dòng và cột của các pixel của chữ số (chứ không phải của background). Ở đây, ta thống nhất: nếu giá trị pixel > 0.5 thì ta sẽ xem đây là pixel của chữ số. Tọa độ dòng và cột của điểm \"trọng tâm\" màu xanh chính là trung bình tọa độ dòng và cột của các điểm dữ liệu màu trắng! Ở đây thì ta chỉ quan tâm đến tọa độ dòng của điểm màu xanh, như hình ở trên thì tọa độ này bằng 14.9, còn tọa độ dòng của pixel-của-chữ-số (điểm dữ liệu màu trắng) đầu tiên tính từ trên xuống bằng 5.0, và do đó giá trị của đặc trưng của ta sẽ bằng 14.9 - 5 = 9.9.   "
   ]
  },
  {
   "cell_type": "markdown",
   "id": "d0a6c7b7-9d6d-490e-87de-e2562675da9d",
   "metadata": {},
   "source": [
    "Tiếp theo, ta sẽ thử cài đặt ý tưởng này!"
   ]
  },
  {
   "cell_type": "markdown",
   "id": "28e0cb9c-4777-4cbe-bff3-56b4ddf4ff22",
   "metadata": {},
   "source": [
    "## Tiền xử lý dữ liệu huấn luyện"
   ]
  },
  {
   "cell_type": "markdown",
   "id": "eac815ff-80be-4c53-8d45-be192e5bb694",
   "metadata": {},
   "source": [
    "Ta sẽ tiền xử lý `train_X` bằng cách thêm vào cuối `train_X` một cột ứng với đặc trưng đã mô tả ở trên. Ta cũng sẽ chuẩn hóa để đưa các giá trị của cột đặc trưng này về đoạn [0, 1] bằng cách: lấy các giá trị của cột trừ cho min-của-cột rồi chia cho (max-của-cột trừ cho min-của-cột); ở đây, max-của-cột và min-của-cột là max và min của cột ban đầu khi chưa đụng chạm gì cả. Ta chuẩn hóa như này để miền giá trị của cột này tương tự với miền giá trị của các cột trước đó (chứa các giá trị pixel) của `train_X`; việc các cột có miền giá trị tương tự nhau thường sẽ giúp cho thuật toán Gradient Descent hội tụ nhanh hơn. Sau khi đã thêm cột đặc trưng (đã chuẩn hóa) vào cuối `train_X` thì ta sẽ thêm cột 1 vào đầu `train_X`.\n",
    "\n",
    "***Nhiệm vụ của bạn (2đ):*** viết hàm `add_features` để thêm cột đặc trưng (đã chuẩn hóa). \n",
    "\n",
    "Hàm này có các tham số đầu vào:\n",
    "- `X`: mảng chứa các véc-tơ đầu vào (chưa thêm 1 ở đầu), mảng này có shape là `(N, d)` với `N` là số lượng các véc-tơ đầu vào và `d` là số lượng phần tử của mỗi véc-tơ đầu vào \n",
    "- `mi` và `ma` (đặt tên như này để tránh đụng độ với hàm `min` và `max` của Python): 2 số thực chứa min và max của cột đặc trưng (khi chưa chuẩn hóa) của *dữ liệu huấn luyện*. Khi gọi hàm này với dữ liệu huấn luyện thì `mi` và `ma` sẽ bằng `None`, và bên trong hàm sẽ tính `mi` và `ma` từ dữ liệu huấn luyện, và dùng `mi` và `ma` này để chuẩn hóa. Khi gọi hàm này với dữ liệu mới ngoài dữ liệu huấn luyện thì cách làm đúng là sẽ truyền vào `mi` và `ma` được tính từ *dữ liệu huấn luyện*, và dùng `mi` và `ma` này để chuẩn hóa\n",
    "\n",
    "Hàm này trả về: mảng `X` được thêm vào cuối cột đặc trưng (cột này đã được chuẩn hóa về [0, 1]), mảng kết quả này có shape là `(N, d+1)`; nếu `mi` và `ma` truyền vào bằng None thì: ngoài mảng `X` được thêm vào cuối cột đặc trưng, còn trả về thêm `mi` và `ma` được tính từ dữ liệu (`mi` và `ma` là 2 số thực).\n",
    "\n",
    "Để đơn giản cho bạn thì mình cho phép bạn dùng vòng lặp trong hàm `add_features` để duyệt qua các ảnh trong mảng `X`. Ngoài ra, bạn cũng được phép giả định ảnh là ảnh vuông để có thể reshape lại kích thước ban đầu của ảnh từ mỗi dòng của `X`."
   ]
  },
  {
   "cell_type": "code",
   "execution_count": null,
   "id": "e086bd2b-8024-45fe-9427-567e319d4db7",
   "metadata": {
    "deletable": false,
    "nbgrader": {
     "cell_type": "code",
     "checksum": "76d907a9b5a0b4d41b5fdbd1a1289c2a",
     "grade": false,
     "grade_id": "cell-6dca8835bd4c5e54",
     "locked": false,
     "schema_version": 3,
     "solution": true,
     "task": false
    },
    "tags": []
   },
   "outputs": [],
   "source": [
    "def add_features (X, mi=None, ma=None):\n",
    "    #YOUR CODE HERE\n",
    "    N, d = X.shape\n",
    "    image_size = int(np.sqrt(d)) # Kích thước ảnh giả định là vuôngvuông\n",
    "    features = np.zeros(N) # Màng để chứa đặc trưng mới cho mỗi ảnh\n",
    "\n",
    "    # Bước 1: Duyệt qua từng ảnh để tính đặc trưng\n",
    "    for i in range(N):\n",
    "        image = X[i].reshape(image_size, image_size) # Chuyến ảnh về dạng ảnh 2D vuông\n",
    "        rows, cols = np.where(image > 0.5) # Lãy tọa độ các pixel của chữ số (giá trị > 0.5)\n",
    "\n",
    "        if len(rows) == 0:\n",
    "            # Trường hợp ảnh hoàn toàn đen (không có pixel nào > 0.5)\n",
    "            features[i] = 0\n",
    "        else:\n",
    "            features[i] = np.mean(rows) - np.min(rows)  # Đặc trưng - độ lệch giữa trọng tâm và dòng đầu tiên\n",
    "\n",
    "    # Kiểm tra xem có phải lần đầu tiên không (để chuẩn hóa đặc trưng)\n",
    "    is_training = False\n",
    "    if mi is None or ma is None:\n",
    "        mi = features.min()\n",
    "        ma = features.max()\n",
    "        is_training = True\n",
    "\n",
    "    # Bước 2: Chuẩn hóa đặc trưng về khoảng [0, 1]\n",
    "    if ma == mi:\n",
    "        features = np.zeros_like(features)\n",
    "    else:\n",
    "        features = (features - mi) / (ma - mi)\n",
    "\n",
    "    # Bước 3: Nổi cột đặc trưng vào cuối mỗi ảnh\n",
    "    X_new = np.hstack((X, features.reshape(-1, 1)))\n",
    "    \n",
    "    if is_training:\n",
    "        return X_new, mi, ma\n",
    "    else:\n",
    "        return X_new"
   ]
  },
  {
   "cell_type": "code",
   "execution_count": null,
   "id": "9f2f09ba-dd3f-4666-8500-81492c7ed21a",
   "metadata": {
    "deletable": false,
    "editable": false,
    "nbgrader": {
     "cell_type": "code",
     "checksum": "c438a4fe261f0d349bcb8b0b841cb635",
     "grade": true,
     "grade_id": "cell-808cfc63f2c948a1",
     "locked": true,
     "points": 2,
     "schema_version": 3,
     "solution": false,
     "task": false
    },
    "tags": []
   },
   "outputs": [],
   "source": [
    "# TEST\n",
    "X = train_X[:5] # Training data\n",
    "Z, mi, ma = add_features(X)\n",
    "assert Z.shape == (5, 785)\n",
    "\n",
    "# print (f'mi: {mi}, ma: {ma}')\n",
    "# print (Z[0, -1].round(4))\n",
    "# print (np.round(mi, 4))\n",
    "# print (np.round(ma, 4))\n",
    "\n",
    "assert str(Z[0, -1].round(4)) == '0.787'\n",
    "assert str(np.round(mi, 4)) == '7.022'\n",
    "assert str(np.round(ma, 4)) == '9.8788'\n",
    "\n",
    "X = val_X[:5] # Validation data\n",
    "Z = add_features(X, mi, ma)\n",
    "assert Z.shape == (5, 785)\n",
    "# print (Z[0, -1].round(4))\n",
    "assert str(Z[0, -1].round(4)) == '1.2291'"
   ]
  },
  {
   "cell_type": "markdown",
   "id": "437a5069-5cf4-42c7-bbba-f42ac68d2355",
   "metadata": {},
   "source": [
    "Ở trên, ta chỉ thử với dữ liệu nhỏ để nhanh chóng kiểm tra tính đúng đắn của hàm `add_features`. Bây giờ ta mới làm thật: gọi hàm `add_features` rồi `add_ones` để tiền xử lý `train_X`."
   ]
  },
  {
   "cell_type": "code",
   "execution_count": null,
   "id": "a7c345b1-6160-4e1c-99ab-fd423aa805dc",
   "metadata": {
    "tags": []
   },
   "outputs": [],
   "source": [
    "train_Z, mi_for_add_features, ma_for_add_features = add_features(train_X)\n",
    "train_Z = add_ones(train_Z)\n",
    "train_Z.shape"
   ]
  },
  {
   "cell_type": "markdown",
   "id": "0dce70a9-8d06-4235-8d52-898d11cfc288",
   "metadata": {},
   "source": [
    "## Tìm mô hình Softmax Regression từ dữ liệu huấn luyện"
   ]
  },
  {
   "cell_type": "code",
   "execution_count": null,
   "id": "28bebae3-74aa-49ca-8db5-493cc6f8f9b7",
   "metadata": {
    "tags": []
   },
   "outputs": [],
   "source": [
    "W_2, train_ces = train_smreg(train_Z, train_y, lr=0.3, max_epoch=500)\n",
    "\n",
    "plt.plot(np.log(train_ces), color='green')\n",
    "plt.xlabel('Epoch')\n",
    "plt.ylabel('Log (for clarity) of training cross-entropy');"
   ]
  },
  {
   "cell_type": "markdown",
   "id": "d3dac548-342e-43cf-9e34-717f7cb43698",
   "metadata": {},
   "source": [
    "## Dùng mô hình Softmax Regression tìm được để dự đoán với dữ liệu huấn luyện và đánh giá kết quả"
   ]
  },
  {
   "cell_type": "code",
   "execution_count": null,
   "id": "3009eb78-d8c9-419e-a18a-d9165a79f94b",
   "metadata": {
    "tags": []
   },
   "outputs": [],
   "source": [
    "predicted_train_y = compute_smreg_output(W_2, train_Z, return_prob=False)\n",
    "train_mbe = compute_mbe(predicted_train_y, train_y)\n",
    "assert str(np.round(train_mbe, 4)) == '9.168'"
   ]
  },
  {
   "cell_type": "markdown",
   "id": "d4e30c26-4240-4a05-a154-ebaf71e8aef4",
   "metadata": {},
   "source": [
    "Như vậy là độ lỗi MBE trên dữ liệu huấn luyện giảm từ 9.192 xuống 9.168. Hmm ... giảm không đáng kể (chắc là do cách thiết kế véc-tơ đầu vào $\\textbf{z}$ của ta còn đơn giản), nhưng dù sao cũng có giảm ..."
   ]
  },
  {
   "cell_type": "markdown",
   "id": "c74ef03b-82a7-48a0-bd8b-4abacd1c22d9",
   "metadata": {},
   "source": [
    "## Tiền xử lý dữ liệu validation, dùng mô hình Softmax Regression tìm được để dự đoán với dữ liệu validation và đánh giá kết quả"
   ]
  },
  {
   "cell_type": "code",
   "execution_count": null,
   "id": "c20a2839-7a9a-462a-83b3-d5ec31ca1cab",
   "metadata": {
    "tags": []
   },
   "outputs": [],
   "source": [
    "val_Z = add_ones(add_features(val_X, mi_for_add_features, ma_for_add_features))\n",
    "predicted_val_y = compute_smreg_output(W_2, val_Z, return_prob=False)\n",
    "val_mbe = compute_mbe(predicted_val_y, val_y)\n",
    "assert str(np.round(val_mbe, 4)) == '8.33'"
   ]
  },
  {
   "cell_type": "markdown",
   "id": "c06f0cd1-881f-47ec-b868-293ec8ba15a3",
   "metadata": {},
   "source": [
    "Độ lỗi MBE trên dữ liệu validation cũng giảm theo: giảm từ 8.36 xuống 8.33."
   ]
  },
  {
   "cell_type": "markdown",
   "id": "931ca838-76da-4449-b6d3-4973b2049deb",
   "metadata": {},
   "source": [
    "## Chọn ra cách tiền xử lý + mô hình Softmax Regression sau cùng là cách tiền xử lý + mô hình Softmax Regression mà có độ lỗi dự đoán thấp nhất trên dữ liệu validation"
   ]
  },
  {
   "cell_type": "markdown",
   "id": "897e3cbe-255a-486a-ab8d-d2861ed193dd",
   "metadata": {},
   "source": [
    "Như vậy ta sẽ chọn cách tiền xử lý là `add_ones(add_features(..., mi_for_add_features, ma_for_add_features))` và mô hình Softmax Regression có bộ trọng số là `W_2`."
   ]
  },
  {
   "cell_type": "markdown",
   "id": "1df42205-a1b6-4201-9d1d-ea6ba8cd0625",
   "metadata": {},
   "source": [
    "## Dùng cách tiền xử lý + mô hình Softmax Regression sau cùng để đi thi thật!"
   ]
  },
  {
   "cell_type": "code",
   "execution_count": null,
   "id": "965f157d-21de-4047-acdc-d9bde5544b85",
   "metadata": {
    "tags": []
   },
   "outputs": [],
   "source": [
    "test_Z = add_ones(add_features(test_X, mi_for_add_features, ma_for_add_features))\n",
    "predicted_test_y = compute_smreg_output(W_2, test_Z, return_prob=False)\n",
    "test_mbe = compute_mbe(predicted_test_y, test_y)\n",
    "assert str(np.round(test_mbe, 4)) == '8.53'"
   ]
  },
  {
   "cell_type": "markdown",
   "id": "f7555ed7-4c1c-4831-b1f3-f2355283206c",
   "metadata": {},
   "source": [
    "Giờ thì đi ngủ được rồi ..."
   ]
  }
 ],
 "metadata": {
  "kernelspec": {
   "display_name": "Python (ml-env)",
   "language": "python",
   "name": "ml-env"
  }
 },
 "nbformat": 4,
 "nbformat_minor": 5
}
